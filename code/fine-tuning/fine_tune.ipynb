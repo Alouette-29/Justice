{
 "cells": [
  {
   "cell_type": "code",
   "execution_count": 43,
   "metadata": {},
   "outputs": [
    {
     "name": "stdout",
     "output_type": "stream",
     "text": [
      "parameters:  22713216\n",
      "input_ids torch.Size([17, 3])\n",
      "token_type_ids torch.Size([17, 3])\n",
      "attention_mask torch.Size([17, 3])\n",
      "torch.Size([17, 384])\n",
      "<class 'sentence_transformers.SentenceTransformer.SentenceTransformer'>\n",
      "dict_keys(['input_ids', 'token_type_ids', 'attention_mask', 'token_embeddings', 'sentence_embedding']) \n",
      " dict_keys(['input_ids', 'token_type_ids', 'attention_mask', 'token_embeddings', 'sentence_embedding']) \n",
      " dict_keys(['input_ids', 'token_type_ids', 'attention_mask', 'token_embeddings', 'sentence_embedding'])\n",
      "Transformer({'max_seq_length': 256, 'do_lower_case': False}) with Transformer model: BertModel \n"
     ]
    }
   ],
   "source": [
    "#定义下游模型\n",
    "import torch \n",
    "from transformers import AutoModel\n",
    "from sentence_transformers import SentenceTransformer\n",
    "pretrained = SentenceTransformer('sentence-transformers/all-MiniLM-L6-v2')\n",
    "print(\"parameters: \",sum(i.numel() for i in pretrained.parameters()))\n",
    "example = \"随便说点啥，我要用来做模型试算嗯嗯\"\n",
    "feaures = pretrained.tokenize(example)\n",
    "for key in feaures.keys():\n",
    "    print(key, feaures[key].shape)\n",
    "print(pretrained.forward(feaures)['sentence_embedding'].shape)\n",
    "print(type(pretrained))\n",
    "out1 = pretrained[0].forward(feaures)\n",
    "out2 = pretrained[1].forward(feaures)\n",
    "out3 = pretrained[2].forward(feaures)\n",
    "print(out1.keys(),'\\n',out2.keys(),'\\n',out3.keys())\n",
    "print(pretrained[0])"
   ]
  },
  {
   "cell_type": "code",
   "execution_count": null,
   "metadata": {},
   "outputs": [],
   "source": [
    "pretrained.encode(example).shape"
   ]
  },
  {
   "cell_type": "code",
   "execution_count": 47,
   "metadata": {},
   "outputs": [
    {
     "name": "stderr",
     "output_type": "stream",
     "text": [
      "Some weights of the model checkpoint at hfl/rbt6 were not used when initializing BertModel: ['cls.seq_relationship.bias', 'cls.predictions.decoder.weight', 'cls.predictions.transform.dense.weight', 'cls.predictions.bias', 'cls.predictions.transform.LayerNorm.weight', 'cls.predictions.transform.dense.bias', 'cls.predictions.transform.LayerNorm.bias', 'cls.predictions.decoder.bias', 'cls.seq_relationship.weight']\n",
      "- This IS expected if you are initializing BertModel from the checkpoint of a model trained on another task or with another architecture (e.g. initializing a BertForSequenceClassification model from a BertForPreTraining model).\n",
      "- This IS NOT expected if you are initializing BertModel from the checkpoint of a model that you expect to be exactly identical (initializing a BertForSequenceClassification model from a BertForSequenceClassification model).\n",
      "Asking to truncate to max_length but no maximum length is provided and the model has no predefined maximum length. Default to no truncation.\n"
     ]
    },
    {
     "name": "stdout",
     "output_type": "stream",
     "text": [
      "BertTokenizerFast(name_or_path='hfl/rbt6', vocab_size=21128, model_max_length=1000000000000000019884624838656, is_fast=True, padding_side='right', truncation_side='right', special_tokens={'unk_token': '[UNK]', 'sep_token': '[SEP]', 'pad_token': '[PAD]', 'cls_token': '[CLS]', 'mask_token': '[MASK]'})\n",
      "dict_keys(['input_ids', 'token_type_ids', 'attention_mask'])\n",
      "input_ids torch.Size([2, 37])\n",
      "token_type_ids torch.Size([2, 37])\n",
      "attention_mask torch.Size([2, 37])\n"
     ]
    },
    {
     "data": {
      "text/plain": [
       "torch.Size([2, 37, 768])"
      ]
     },
     "execution_count": 47,
     "metadata": {},
     "output_type": "execute_result"
    }
   ],
   "source": [
    "from transformers import AutoTokenizer\n",
    "\n",
    "#加载分词器\n",
    "tokenizer = AutoTokenizer.from_pretrained('hfl/rbt6')\n",
    "from transformers import AutoModel\n",
    "\n",
    "#加载预训练模型\n",
    "pretrained = AutoModel.from_pretrained('hfl/rbt6')\n",
    "print(tokenizer)\n",
    "\n",
    "#分词测试\n",
    "inputs = tokenizer.batch_encode_plus(\n",
    "    [[\n",
    "        '海', '钓', '比', '赛', '地', '点', '在', '厦', '门', '与', '金', '门', '之', '间',\n",
    "        '的', '海', '域', '。'\n",
    "    ],\n",
    "     [\n",
    "         '这', '座', '依', '山', '傍', '水', '的', '博', '物', '馆', '由', '国', '内', '一',\n",
    "         '流', '的', '设', '计', '师', '主', '持', '设', '计', '，', '整', '个', '建', '筑',\n",
    "         '群', '精', '美', '而', '恢', '宏', '。'\n",
    "     ]],\n",
    "    truncation=True,\n",
    "    padding=True,\n",
    "    return_tensors='pt',\n",
    "    is_split_into_words=True)\n",
    "\n",
    "print(inputs.keys())\n",
    "for i in inputs:\n",
    "    print(i,inputs[i].shape)\n",
    "pretrained(**inputs).last_hidden_state.shape\n",
    "#del out3['token_embeddings'],out3['sentence_embedding']\n",
    "pretrained(**inputs).last_hidden_state.shape"
   ]
  },
  {
   "cell_type": "code",
   "execution_count": 63,
   "metadata": {},
   "outputs": [],
   "source": [
    "\n",
    "#模型试算\n",
    "#[b, lens] -> [b, lens, 768]\n",
    "#pretrained(**inputs).last_hidden_state.shape\n",
    "class Model(torch.nn.Module):\n",
    "    def __init__(self):\n",
    "        super().__init__()\n",
    "        self.tuneing = False\n",
    "        self.pretrained = bertmodel\n",
    "\n",
    "        self.rnn = torch.nn.GRU(768, 768,batch_first=True)\n",
    "        self.fc = torch.nn.Linear(768, 8)\n",
    "\n",
    "    def forward(self, inputs):\n",
    "        #print(inputs.keys())\n",
    "        for i in inputs:\n",
    "            print(inputs[i].size())\n",
    "        if self.tuneing:\n",
    "            out = self.pretrained(**inputs).last_hidden_state\n",
    "        else:\n",
    "            with torch.no_grad():\n",
    "                out = pretrained(**inputs).last_hidden_state\n",
    "\n",
    "        out, _ = self.rnn(out)\n",
    "\n",
    "        out = self.fc(out).softmax(dim=2)\n",
    "\n",
    "        return out\n",
    "\n",
    "    def fine_tuneing(self, tuneing):\n",
    "        self.tuneing = tuneing\n",
    "        if tuneing:\n",
    "            for i in pretrained.parameters():\n",
    "                i.requires_grad = True\n",
    "\n",
    "            pretrained.train()\n",
    "            self.pretrained = pretrained\n",
    "        else:\n",
    "            for i in pretrained.parameters():\n",
    "                i.requires_grad_(False)\n",
    "\n",
    "            pretrained.eval()\n",
    "            self.pretrained = None\n",
    "\n",
    "\n",
    "model = Model()\n"
   ]
  },
  {
   "cell_type": "code",
   "execution_count": 27,
   "metadata": {},
   "outputs": [
    {
     "name": "stdout",
     "output_type": "stream",
     "text": [
      "torch.Size([1, 4, 25])\n"
     ]
    },
    {
     "data": {
      "text/plain": [
       "torch.Size([2, 2, 25])"
      ]
     },
     "execution_count": 27,
     "metadata": {},
     "output_type": "execute_result"
    }
   ],
   "source": [
    "# test pooling \n",
    "import torch\n",
    "a = torch.ones(100).reshape((1,4,25))\n",
    "print(a.shape)\n",
    "b  = torch.nn.AvgPool1d(kernel_size=1,stride=10)\n",
    "c  = torch.nn.Conv2d(in_channels = 1, out_channels = 2, kernel_size=(2,1),stride=(2,1))\n",
    "c(a).shape"
   ]
  },
  {
   "cell_type": "code",
   "execution_count": 70,
   "metadata": {},
   "outputs": [],
   "source": [
    "import json \n",
    "path = './cail/competition_stage_2_train.json'\n",
    "file = open(path,'r',encoding='utf-8')\n",
    "line = file.readline()\n",
    "cases = json.loads(line)\n"
   ]
  },
  {
   "cell_type": "code",
   "execution_count": 95,
   "metadata": {},
   "outputs": [
    {
     "name": "stdout",
     "output_type": "stream",
     "text": [
      "<class 'list'>\n",
      "<class 'str'>\n",
      "上海市长宁区人民检察院指控:2020年3月,被告人XXX受他人指使在广东省揭阳市使用自己的身份证办理中国农业银行卡、手机卡及网银U盾1套,并以人民币1,000元的价格出售给他人。该中国农业银行卡之后被用于诈骗活动。2020年4月,被害人XXX在本市长宁区武夷路家中被电信网络诈骗,钱款经一级账户XXX的平安银行卡转账至被告人方俊河办理的农业银行卡,共计人民币120万元。该农业银行卡支付结算金额超人民币1,860余万元。2020年7月23日,被告人方俊河在广东省揭阳市榕城区榕东旧寨村XXX某某微电机厂内被民警抓获。被告人XXX到案后如实供述上述犯罪事实。  上述事实,被告人方俊河在开庭审理过程中亦无异议,并有被害人柏某某的陈述、平安银行出具的客户个人信息、个人交易明细,中国农业银行出具的个人开卡业务申请书、资料修改业务申请书,平安银行出具的个人交易明细及中国农业银行出具的银行卡交易明细清单,上海市***长宁分局扣押清单、扣押笔录及扣押照片,上海市***长宁分局案发经过表格、抓获经过、个人信息及十指指纹信息卡等证据证实,足以认定。上述事实,被告人方俊河在开庭审理过程中亦无异议,并有被害人柏某某的陈述、平安银行出具的客户个人信息、个人交易明细,中国农业银行出具的个人开卡业务申请书、资料修改业务申请书,平安银行出具的个人交易明细及中国农业银行出具的银行卡交易明细清单,上海市***长宁分局扣押清单、扣押笔录及扣押照片,上海市***长宁分局案发经过表格、抓获经过、个人信息及十指指纹信息卡等证据证实,足以认定。本院认为,被告人XXX明知他人利用信息网络实施犯罪,为其犯罪提供支付结算帮助,情节严重,其行为已构成帮助信息网络犯罪活动罪,依法应予惩处。公诉机关的指控,事实清楚,定性正确。被告人XXX到案后如实供述自己的罪行,依法予以从轻处罚。辩护人与此相关的辩护意见,本院予以采纳\n"
     ]
    }
   ],
   "source": [
    "cases\n",
    "print(type(cases['Case_A']))\n",
    "print(type(cases['Case_A'][0]))\n",
    "print(\"\".join(cases['Case_A']))"
   ]
  },
  {
   "cell_type": "code",
   "execution_count": 112,
   "metadata": {},
   "outputs": [
    {
     "data": {
      "text/plain": [
       "['上海市长宁区人民检察院指控:2020年3月,被告人XXX受他人指使在广东省揭阳市使用自己的身份证办理中国农业银行卡、手机卡及网银U盾1套,并以人民币1,000元的价格出售给他人。',\n",
       " '该中国农业银行卡之后被用于诈骗活动。',\n",
       " '2020年4月,被害人XXX在本市长宁区武夷路家中被电信网络诈骗,钱款经一级账户XXX的平安银行卡转账至被告人方俊河办理的农业银行卡,共计人民币120万元。',\n",
       " '该农业银行卡支付结算金额超人民币1,860余万元。',\n",
       " '2020年7月23日,被告人方俊河在广东省揭阳市榕城区榕东旧寨村XXX某某微电机厂内被民警抓获。',\n",
       " '被告人XXX到案后如实供述上述犯罪事实。',\n",
       " '  上述事实,被告人方俊河在开庭审理过程中亦无异议,并有被害人柏某某的陈述、平安银行出具的客户个人信息、个人交易明细,中国农业银行出具的个人开卡业务申请书、资料修改业务申请书,平安银行出具的个人交易明细及中国农业银行出具的银行卡交易明细清单,上海市***长宁分局扣押清单、扣押笔录及扣押照片,上海市***长宁分局案发经过表格、抓获经过、个人信息及十指指纹信息卡等证据证实,足以认定。',\n",
       " '上述事实,被告人方俊河在开庭审理过程中亦无异议,并有被害人柏某某的陈述、平安银行出具的客户个人信息、个人交易明细,中国农业银行出具的个人开卡业务申请书、资料修改业务申请书,平安银行出具的个人交易明细及中国农业银行出具的银行卡交易明细清单,上海市***长宁分局扣押清单、扣押笔录及扣押照片,上海市***长宁分局案发经过表格、抓获经过、个人信息及十指指纹信息卡等证据证实,足以认定。',\n",
       " '本院认为,被告人XXX明知他人利用信息网络实施犯罪,为其犯罪提供支付结算帮助,情节严重,其行为已构成帮助信息网络犯罪活动罪,依法应予惩处。',\n",
       " '公诉机关的指控,事实清楚,定性正确。',\n",
       " '被告人XXX到案后如实供述自己的罪行,依法予以从轻处罚。',\n",
       " '辩护人与此相关的辩护意见,本院予以采纳']"
      ]
     },
     "execution_count": 112,
     "metadata": {},
     "output_type": "execute_result"
    }
   ],
   "source": [
    "file = open(path,'r',encoding='utf-8')\n",
    "cases = file.readlines()\n",
    "cases = [json.loads(i) for i in cases]\n",
    "cases[0]['Case_A']"
   ]
  },
  {
   "cell_type": "code",
   "execution_count": 131,
   "metadata": {},
   "outputs": [],
   "source": [
    "from torch.utils.data import Dataset,DataLoader\n",
    "class CailDataset(Dataset):\n",
    "    def __init__(self,dataset) -> None:\n",
    "        super(CailDataset).__init__()\n",
    "        self.dataset = dataset\n",
    "        file = open(dataset,'r',encoding='utf-8')\n",
    "        cases = file.readlines()\n",
    "        self.cases = [json.loads(i) for i in cases]\n",
    "        self.length = len(self.cases)\n",
    "    def __getitem__(self, index) :\n",
    "        # caseA = self.cases[index][\"Case_A\"]\n",
    "        # caseB = self.cases[index][\"Case_B\"]\n",
    "        # label = self.cases[index][\"label\"]\n",
    "        # return caseA,caseB,label\n",
    "        return index \n",
    "    def __len__(self):\n",
    "        return self.length"
   ]
  },
  {
   "cell_type": "code",
   "execution_count": 126,
   "metadata": {},
   "outputs": [],
   "source": [
    "\n",
    "#模型试算\n",
    "#[b, lens] -> [b, lens, 768]\n",
    "#pretrained(**inputs).last_hidden_state.shape\n",
    "from sentence_transformers import SentenceTransformer\n",
    "pretrained = SentenceTransformer('sentence-transformers/all-MiniLM-L6-v2')\n",
    "class CailModel(torch.nn.Module):\n",
    "    def __init__(self):\n",
    "        super().__init__()\n",
    "        self.tuneing = False\n",
    "        self.pretrained = pretrained\n",
    "        self.fc = torch.nn.Linear(384,3)\n",
    "\n",
    "    def forward(self, inputs):\n",
    "        #print(inputs.keys())\n",
    "        # for i in inputs:\n",
    "        #     print(inputs[i].size())\n",
    "        #print(type(inputs))\n",
    "        emba = pretrained.encode(\"\".join(inputs['Case_A']))\n",
    "        embb = pretrained.encode(\"\".join(inputs['Case_B']))\n",
    "        out = emba+embb\n",
    "        out = torch.FloatTensor(out)\n",
    "        out = self.fc(out)\n",
    "        #out = torch.argmax(out).long()\n",
    "        return out\n",
    "\n",
    "    def fine_tuneing(self, tuneing):\n",
    "        self.tuneing = tuneing\n",
    "        if tuneing:\n",
    "            for i in pretrained.parameters():\n",
    "                i.requires_grad = True\n",
    "\n",
    "            pretrained.train()\n",
    "            self.pretrained = pretrained\n",
    "        else:\n",
    "            for i in pretrained.parameters():\n",
    "                i.requires_grad_(False)\n",
    "\n",
    "            pretrained.eval()\n",
    "            self.pretrained = None\n",
    "model = CailModel()"
   ]
  },
  {
   "cell_type": "code",
   "execution_count": 133,
   "metadata": {},
   "outputs": [
    {
     "name": "stderr",
     "output_type": "stream",
     "text": [
      "d:\\programs\\anaconda\\envs\\pytorch\\lib\\site-packages\\transformers\\optimization.py:306: FutureWarning: This implementation of AdamW is deprecated and will be removed in a future version. Use the PyTorch implementation torch.optim.AdamW instead, or set `no_deprecation_warning=True` to disable this warning\n",
      "  warnings.warn(\n",
      "100%|██████████| 3000/3000 [01:03<00:00, 47.53it/s]\n"
     ]
    },
    {
     "name": "stdout",
     "output_type": "stream",
     "text": [
      "epoch 0loss tensor(1.0360, grad_fn=<DivBackward0>)\n",
      "0.46066666666666667\n"
     ]
    },
    {
     "name": "stderr",
     "output_type": "stream",
     "text": [
      "100%|██████████| 3000/3000 [00:57<00:00, 51.83it/s]\n"
     ]
    },
    {
     "name": "stdout",
     "output_type": "stream",
     "text": [
      "epoch 1loss tensor(1.0357, grad_fn=<DivBackward0>)\n",
      "0.4623333333333333\n"
     ]
    },
    {
     "name": "stderr",
     "output_type": "stream",
     "text": [
      "100%|██████████| 3000/3000 [00:54<00:00, 55.54it/s]\n"
     ]
    },
    {
     "name": "stdout",
     "output_type": "stream",
     "text": [
      "epoch 2loss tensor(1.0353, grad_fn=<DivBackward0>)\n",
      "0.46166666666666667\n"
     ]
    },
    {
     "name": "stderr",
     "output_type": "stream",
     "text": [
      "100%|██████████| 3000/3000 [00:53<00:00, 56.35it/s]\n"
     ]
    },
    {
     "name": "stdout",
     "output_type": "stream",
     "text": [
      "epoch 3loss tensor(1.0350, grad_fn=<DivBackward0>)\n",
      "0.46266666666666667\n"
     ]
    },
    {
     "name": "stderr",
     "output_type": "stream",
     "text": [
      "100%|██████████| 3000/3000 [00:53<00:00, 55.59it/s]\n"
     ]
    },
    {
     "name": "stdout",
     "output_type": "stream",
     "text": [
      "epoch 4loss tensor(1.0346, grad_fn=<DivBackward0>)\n",
      "0.46266666666666667\n"
     ]
    },
    {
     "name": "stderr",
     "output_type": "stream",
     "text": [
      "100%|██████████| 3000/3000 [01:00<00:00, 49.84it/s]\n"
     ]
    },
    {
     "name": "stdout",
     "output_type": "stream",
     "text": [
      "epoch 5loss tensor(1.0343, grad_fn=<DivBackward0>)\n",
      "0.4643333333333333\n"
     ]
    },
    {
     "name": "stderr",
     "output_type": "stream",
     "text": [
      "100%|██████████| 3000/3000 [00:56<00:00, 52.88it/s]\n"
     ]
    },
    {
     "name": "stdout",
     "output_type": "stream",
     "text": [
      "epoch 6loss tensor(1.0340, grad_fn=<DivBackward0>)\n",
      "0.4646666666666667\n"
     ]
    },
    {
     "name": "stderr",
     "output_type": "stream",
     "text": [
      "100%|██████████| 3000/3000 [00:57<00:00, 52.08it/s]\n"
     ]
    },
    {
     "name": "stdout",
     "output_type": "stream",
     "text": [
      "epoch 7loss tensor(1.0336, grad_fn=<DivBackward0>)\n",
      "0.464\n"
     ]
    },
    {
     "name": "stderr",
     "output_type": "stream",
     "text": [
      "100%|██████████| 3000/3000 [00:53<00:00, 56.20it/s]\n"
     ]
    },
    {
     "name": "stdout",
     "output_type": "stream",
     "text": [
      "epoch 8loss tensor(1.0333, grad_fn=<DivBackward0>)\n",
      "0.465\n"
     ]
    },
    {
     "name": "stderr",
     "output_type": "stream",
     "text": [
      "100%|██████████| 3000/3000 [01:00<00:00, 49.46it/s]\n"
     ]
    },
    {
     "name": "stdout",
     "output_type": "stream",
     "text": [
      "epoch 9loss tensor(1.0330, grad_fn=<DivBackward0>)\n",
      "0.465\n"
     ]
    },
    {
     "name": "stderr",
     "output_type": "stream",
     "text": [
      "100%|██████████| 3000/3000 [00:57<00:00, 51.83it/s]\n"
     ]
    },
    {
     "name": "stdout",
     "output_type": "stream",
     "text": [
      "epoch 10loss tensor(1.0327, grad_fn=<DivBackward0>)\n",
      "0.466\n"
     ]
    },
    {
     "name": "stderr",
     "output_type": "stream",
     "text": [
      "100%|██████████| 3000/3000 [01:11<00:00, 41.79it/s]\n"
     ]
    },
    {
     "name": "stdout",
     "output_type": "stream",
     "text": [
      "epoch 11loss tensor(1.0323, grad_fn=<DivBackward0>)\n",
      "0.467\n"
     ]
    },
    {
     "name": "stderr",
     "output_type": "stream",
     "text": [
      "100%|██████████| 3000/3000 [00:57<00:00, 51.86it/s]\n"
     ]
    },
    {
     "name": "stdout",
     "output_type": "stream",
     "text": [
      "epoch 12loss tensor(1.0320, grad_fn=<DivBackward0>)\n",
      "0.468\n"
     ]
    },
    {
     "name": "stderr",
     "output_type": "stream",
     "text": [
      "100%|██████████| 3000/3000 [01:01<00:00, 49.02it/s]\n"
     ]
    },
    {
     "name": "stdout",
     "output_type": "stream",
     "text": [
      "epoch 13loss tensor(1.0317, grad_fn=<DivBackward0>)\n",
      "0.4683333333333333\n"
     ]
    },
    {
     "name": "stderr",
     "output_type": "stream",
     "text": [
      "100%|██████████| 3000/3000 [00:59<00:00, 50.29it/s]\n"
     ]
    },
    {
     "name": "stdout",
     "output_type": "stream",
     "text": [
      "epoch 14loss tensor(1.0314, grad_fn=<DivBackward0>)\n",
      "0.469\n"
     ]
    },
    {
     "name": "stderr",
     "output_type": "stream",
     "text": [
      "100%|██████████| 3000/3000 [00:56<00:00, 52.76it/s]\n"
     ]
    },
    {
     "name": "stdout",
     "output_type": "stream",
     "text": [
      "epoch 15loss tensor(1.0311, grad_fn=<DivBackward0>)\n",
      "0.469\n"
     ]
    },
    {
     "name": "stderr",
     "output_type": "stream",
     "text": [
      "100%|██████████| 3000/3000 [00:56<00:00, 53.30it/s]\n"
     ]
    },
    {
     "name": "stdout",
     "output_type": "stream",
     "text": [
      "epoch 16loss tensor(1.0308, grad_fn=<DivBackward0>)\n",
      "0.4693333333333333\n"
     ]
    },
    {
     "name": "stderr",
     "output_type": "stream",
     "text": [
      "100%|██████████| 3000/3000 [00:55<00:00, 53.76it/s]\n"
     ]
    },
    {
     "name": "stdout",
     "output_type": "stream",
     "text": [
      "epoch 17loss tensor(1.0305, grad_fn=<DivBackward0>)\n",
      "0.4693333333333333\n"
     ]
    },
    {
     "name": "stderr",
     "output_type": "stream",
     "text": [
      "100%|██████████| 3000/3000 [00:56<00:00, 53.03it/s]\n"
     ]
    },
    {
     "name": "stdout",
     "output_type": "stream",
     "text": [
      "epoch 18loss tensor(1.0302, grad_fn=<DivBackward0>)\n",
      "0.4703333333333333\n"
     ]
    },
    {
     "name": "stderr",
     "output_type": "stream",
     "text": [
      "100%|██████████| 3000/3000 [00:56<00:00, 53.37it/s]\n"
     ]
    },
    {
     "name": "stdout",
     "output_type": "stream",
     "text": [
      "epoch 19loss tensor(1.0299, grad_fn=<DivBackward0>)\n",
      "0.4703333333333333\n"
     ]
    },
    {
     "name": "stderr",
     "output_type": "stream",
     "text": [
      "100%|██████████| 3000/3000 [00:56<00:00, 52.93it/s]\n"
     ]
    },
    {
     "name": "stdout",
     "output_type": "stream",
     "text": [
      "epoch 20loss tensor(1.0296, grad_fn=<DivBackward0>)\n",
      "0.4703333333333333\n"
     ]
    },
    {
     "name": "stderr",
     "output_type": "stream",
     "text": [
      "100%|██████████| 3000/3000 [03:34<00:00, 13.96it/s]\n"
     ]
    },
    {
     "name": "stdout",
     "output_type": "stream",
     "text": [
      "epoch 21loss tensor(1.0293, grad_fn=<DivBackward0>)\n",
      "0.4696666666666667\n"
     ]
    },
    {
     "name": "stderr",
     "output_type": "stream",
     "text": [
      "100%|██████████| 3000/3000 [04:05<00:00, 12.24it/s]\n"
     ]
    },
    {
     "name": "stdout",
     "output_type": "stream",
     "text": [
      "epoch 22loss tensor(1.0290, grad_fn=<DivBackward0>)\n",
      "0.47\n"
     ]
    },
    {
     "name": "stderr",
     "output_type": "stream",
     "text": [
      "100%|██████████| 3000/3000 [02:09<00:00, 23.23it/s]\n"
     ]
    },
    {
     "name": "stdout",
     "output_type": "stream",
     "text": [
      "epoch 23loss tensor(1.0287, grad_fn=<DivBackward0>)\n",
      "0.4706666666666667\n"
     ]
    },
    {
     "name": "stderr",
     "output_type": "stream",
     "text": [
      "100%|██████████| 3000/3000 [00:56<00:00, 53.37it/s]\n"
     ]
    },
    {
     "name": "stdout",
     "output_type": "stream",
     "text": [
      "epoch 24loss tensor(1.0284, grad_fn=<DivBackward0>)\n",
      "0.472\n"
     ]
    },
    {
     "name": "stderr",
     "output_type": "stream",
     "text": [
      "100%|██████████| 3000/3000 [00:56<00:00, 53.40it/s]\n"
     ]
    },
    {
     "name": "stdout",
     "output_type": "stream",
     "text": [
      "epoch 25loss tensor(1.0281, grad_fn=<DivBackward0>)\n",
      "0.4726666666666667\n"
     ]
    },
    {
     "name": "stderr",
     "output_type": "stream",
     "text": [
      "100%|██████████| 3000/3000 [00:56<00:00, 53.24it/s]\n"
     ]
    },
    {
     "name": "stdout",
     "output_type": "stream",
     "text": [
      "epoch 26loss tensor(1.0278, grad_fn=<DivBackward0>)\n",
      "0.47333333333333333\n"
     ]
    },
    {
     "name": "stderr",
     "output_type": "stream",
     "text": [
      "100%|██████████| 3000/3000 [00:56<00:00, 52.92it/s]\n"
     ]
    },
    {
     "name": "stdout",
     "output_type": "stream",
     "text": [
      "epoch 27loss tensor(1.0276, grad_fn=<DivBackward0>)\n",
      "0.47333333333333333\n"
     ]
    },
    {
     "name": "stderr",
     "output_type": "stream",
     "text": [
      "100%|██████████| 3000/3000 [00:56<00:00, 53.56it/s]\n"
     ]
    },
    {
     "name": "stdout",
     "output_type": "stream",
     "text": [
      "epoch 28loss tensor(1.0273, grad_fn=<DivBackward0>)\n",
      "0.4746666666666667\n"
     ]
    },
    {
     "name": "stderr",
     "output_type": "stream",
     "text": [
      "100%|██████████| 3000/3000 [00:55<00:00, 54.16it/s]\n"
     ]
    },
    {
     "name": "stdout",
     "output_type": "stream",
     "text": [
      "epoch 29loss tensor(1.0270, grad_fn=<DivBackward0>)\n",
      "0.476\n"
     ]
    },
    {
     "name": "stderr",
     "output_type": "stream",
     "text": [
      "100%|██████████| 3000/3000 [00:55<00:00, 54.28it/s]\n"
     ]
    },
    {
     "name": "stdout",
     "output_type": "stream",
     "text": [
      "epoch 30loss tensor(1.0267, grad_fn=<DivBackward0>)\n",
      "0.4756666666666667\n"
     ]
    },
    {
     "name": "stderr",
     "output_type": "stream",
     "text": [
      "100%|██████████| 3000/3000 [00:55<00:00, 53.92it/s]\n"
     ]
    },
    {
     "name": "stdout",
     "output_type": "stream",
     "text": [
      "epoch 31loss tensor(1.0264, grad_fn=<DivBackward0>)\n",
      "0.4766666666666667\n"
     ]
    },
    {
     "name": "stderr",
     "output_type": "stream",
     "text": [
      "100%|██████████| 3000/3000 [00:55<00:00, 54.09it/s]\n"
     ]
    },
    {
     "name": "stdout",
     "output_type": "stream",
     "text": [
      "epoch 32loss tensor(1.0262, grad_fn=<DivBackward0>)\n",
      "0.4766666666666667\n"
     ]
    },
    {
     "name": "stderr",
     "output_type": "stream",
     "text": [
      "100%|██████████| 3000/3000 [00:55<00:00, 54.16it/s]\n"
     ]
    },
    {
     "name": "stdout",
     "output_type": "stream",
     "text": [
      "epoch 33loss tensor(1.0259, grad_fn=<DivBackward0>)\n",
      "0.4776666666666667\n"
     ]
    },
    {
     "name": "stderr",
     "output_type": "stream",
     "text": [
      "100%|██████████| 3000/3000 [00:57<00:00, 52.08it/s]\n"
     ]
    },
    {
     "name": "stdout",
     "output_type": "stream",
     "text": [
      "epoch 34loss tensor(1.0256, grad_fn=<DivBackward0>)\n",
      "0.4786666666666667\n"
     ]
    },
    {
     "name": "stderr",
     "output_type": "stream",
     "text": [
      "100%|██████████| 3000/3000 [00:55<00:00, 54.15it/s]\n"
     ]
    },
    {
     "name": "stdout",
     "output_type": "stream",
     "text": [
      "epoch 35loss tensor(1.0254, grad_fn=<DivBackward0>)\n",
      "0.47833333333333333\n"
     ]
    },
    {
     "name": "stderr",
     "output_type": "stream",
     "text": [
      "100%|██████████| 3000/3000 [00:55<00:00, 54.00it/s]\n"
     ]
    },
    {
     "name": "stdout",
     "output_type": "stream",
     "text": [
      "epoch 36loss tensor(1.0251, grad_fn=<DivBackward0>)\n",
      "0.47833333333333333\n"
     ]
    },
    {
     "name": "stderr",
     "output_type": "stream",
     "text": [
      "100%|██████████| 3000/3000 [00:55<00:00, 54.19it/s]\n"
     ]
    },
    {
     "name": "stdout",
     "output_type": "stream",
     "text": [
      "epoch 37loss tensor(1.0248, grad_fn=<DivBackward0>)\n",
      "0.479\n"
     ]
    },
    {
     "name": "stderr",
     "output_type": "stream",
     "text": [
      "100%|██████████| 3000/3000 [00:55<00:00, 54.11it/s]\n"
     ]
    },
    {
     "name": "stdout",
     "output_type": "stream",
     "text": [
      "epoch 38loss tensor(1.0246, grad_fn=<DivBackward0>)\n",
      "0.48\n"
     ]
    },
    {
     "name": "stderr",
     "output_type": "stream",
     "text": [
      "100%|██████████| 3000/3000 [00:58<00:00, 51.58it/s]\n"
     ]
    },
    {
     "name": "stdout",
     "output_type": "stream",
     "text": [
      "epoch 39loss tensor(1.0243, grad_fn=<DivBackward0>)\n",
      "0.48033333333333333\n"
     ]
    },
    {
     "name": "stderr",
     "output_type": "stream",
     "text": [
      "100%|██████████| 3000/3000 [00:55<00:00, 54.07it/s]\n"
     ]
    },
    {
     "name": "stdout",
     "output_type": "stream",
     "text": [
      "epoch 40loss tensor(1.0241, grad_fn=<DivBackward0>)\n",
      "0.48033333333333333\n"
     ]
    },
    {
     "name": "stderr",
     "output_type": "stream",
     "text": [
      "100%|██████████| 3000/3000 [00:55<00:00, 54.02it/s]\n"
     ]
    },
    {
     "name": "stdout",
     "output_type": "stream",
     "text": [
      "epoch 41loss tensor(1.0238, grad_fn=<DivBackward0>)\n",
      "0.48133333333333334\n"
     ]
    },
    {
     "name": "stderr",
     "output_type": "stream",
     "text": [
      "100%|██████████| 3000/3000 [00:55<00:00, 54.01it/s]\n"
     ]
    },
    {
     "name": "stdout",
     "output_type": "stream",
     "text": [
      "epoch 42loss tensor(1.0235, grad_fn=<DivBackward0>)\n",
      "0.481\n"
     ]
    },
    {
     "name": "stderr",
     "output_type": "stream",
     "text": [
      "100%|██████████| 3000/3000 [00:55<00:00, 53.95it/s]\n"
     ]
    },
    {
     "name": "stdout",
     "output_type": "stream",
     "text": [
      "epoch 43loss tensor(1.0233, grad_fn=<DivBackward0>)\n",
      "0.481\n"
     ]
    },
    {
     "name": "stderr",
     "output_type": "stream",
     "text": [
      "100%|██████████| 3000/3000 [00:55<00:00, 54.23it/s]\n"
     ]
    },
    {
     "name": "stdout",
     "output_type": "stream",
     "text": [
      "epoch 44loss tensor(1.0230, grad_fn=<DivBackward0>)\n",
      "0.4816666666666667\n"
     ]
    },
    {
     "name": "stderr",
     "output_type": "stream",
     "text": [
      "100%|██████████| 3000/3000 [00:55<00:00, 54.32it/s]\n"
     ]
    },
    {
     "name": "stdout",
     "output_type": "stream",
     "text": [
      "epoch 45loss tensor(1.0228, grad_fn=<DivBackward0>)\n",
      "0.481\n"
     ]
    },
    {
     "name": "stderr",
     "output_type": "stream",
     "text": [
      "100%|██████████| 3000/3000 [00:55<00:00, 54.27it/s]\n"
     ]
    },
    {
     "name": "stdout",
     "output_type": "stream",
     "text": [
      "epoch 46loss tensor(1.0225, grad_fn=<DivBackward0>)\n",
      "0.4816666666666667\n"
     ]
    },
    {
     "name": "stderr",
     "output_type": "stream",
     "text": [
      "100%|██████████| 3000/3000 [00:55<00:00, 54.17it/s]\n"
     ]
    },
    {
     "name": "stdout",
     "output_type": "stream",
     "text": [
      "epoch 47loss tensor(1.0223, grad_fn=<DivBackward0>)\n",
      "0.4816666666666667\n"
     ]
    },
    {
     "name": "stderr",
     "output_type": "stream",
     "text": [
      "100%|██████████| 3000/3000 [00:55<00:00, 54.21it/s]\n"
     ]
    },
    {
     "name": "stdout",
     "output_type": "stream",
     "text": [
      "epoch 48loss tensor(1.0220, grad_fn=<DivBackward0>)\n",
      "0.482\n"
     ]
    },
    {
     "name": "stderr",
     "output_type": "stream",
     "text": [
      "100%|██████████| 3000/3000 [00:55<00:00, 54.31it/s]\n"
     ]
    },
    {
     "name": "stdout",
     "output_type": "stream",
     "text": [
      "epoch 49loss tensor(1.0218, grad_fn=<DivBackward0>)\n",
      "0.48233333333333334\n"
     ]
    },
    {
     "name": "stderr",
     "output_type": "stream",
     "text": [
      "100%|██████████| 3000/3000 [00:55<00:00, 54.26it/s]\n"
     ]
    },
    {
     "name": "stdout",
     "output_type": "stream",
     "text": [
      "epoch 50loss tensor(1.0216, grad_fn=<DivBackward0>)\n",
      "0.48133333333333334\n"
     ]
    },
    {
     "name": "stderr",
     "output_type": "stream",
     "text": [
      "100%|██████████| 3000/3000 [00:55<00:00, 53.92it/s]\n"
     ]
    },
    {
     "name": "stdout",
     "output_type": "stream",
     "text": [
      "epoch 51loss tensor(1.0213, grad_fn=<DivBackward0>)\n",
      "0.4806666666666667\n"
     ]
    },
    {
     "name": "stderr",
     "output_type": "stream",
     "text": [
      "100%|██████████| 3000/3000 [00:55<00:00, 54.16it/s]\n"
     ]
    },
    {
     "name": "stdout",
     "output_type": "stream",
     "text": [
      "epoch 52loss tensor(1.0211, grad_fn=<DivBackward0>)\n",
      "0.48033333333333333\n"
     ]
    },
    {
     "name": "stderr",
     "output_type": "stream",
     "text": [
      "100%|██████████| 3000/3000 [00:55<00:00, 54.39it/s]\n"
     ]
    },
    {
     "name": "stdout",
     "output_type": "stream",
     "text": [
      "epoch 53loss tensor(1.0208, grad_fn=<DivBackward0>)\n",
      "0.48033333333333333\n"
     ]
    },
    {
     "name": "stderr",
     "output_type": "stream",
     "text": [
      "100%|██████████| 3000/3000 [00:55<00:00, 53.89it/s]\n"
     ]
    },
    {
     "name": "stdout",
     "output_type": "stream",
     "text": [
      "epoch 54loss tensor(1.0206, grad_fn=<DivBackward0>)\n",
      "0.4806666666666667\n"
     ]
    },
    {
     "name": "stderr",
     "output_type": "stream",
     "text": [
      "100%|██████████| 3000/3000 [00:55<00:00, 54.19it/s]\n"
     ]
    },
    {
     "name": "stdout",
     "output_type": "stream",
     "text": [
      "epoch 55loss tensor(1.0204, grad_fn=<DivBackward0>)\n",
      "0.4806666666666667\n"
     ]
    },
    {
     "name": "stderr",
     "output_type": "stream",
     "text": [
      "100%|██████████| 3000/3000 [00:56<00:00, 53.41it/s]\n"
     ]
    },
    {
     "name": "stdout",
     "output_type": "stream",
     "text": [
      "epoch 56loss tensor(1.0201, grad_fn=<DivBackward0>)\n",
      "0.48033333333333333\n"
     ]
    },
    {
     "name": "stderr",
     "output_type": "stream",
     "text": [
      "100%|██████████| 3000/3000 [00:55<00:00, 54.05it/s]\n"
     ]
    },
    {
     "name": "stdout",
     "output_type": "stream",
     "text": [
      "epoch 57loss tensor(1.0199, grad_fn=<DivBackward0>)\n",
      "0.48133333333333334\n"
     ]
    },
    {
     "name": "stderr",
     "output_type": "stream",
     "text": [
      "100%|██████████| 3000/3000 [00:55<00:00, 54.20it/s]\n"
     ]
    },
    {
     "name": "stdout",
     "output_type": "stream",
     "text": [
      "epoch 58loss tensor(1.0197, grad_fn=<DivBackward0>)\n",
      "0.4816666666666667\n"
     ]
    },
    {
     "name": "stderr",
     "output_type": "stream",
     "text": [
      "100%|██████████| 3000/3000 [00:55<00:00, 54.10it/s]\n"
     ]
    },
    {
     "name": "stdout",
     "output_type": "stream",
     "text": [
      "epoch 59loss tensor(1.0194, grad_fn=<DivBackward0>)\n",
      "0.483\n"
     ]
    },
    {
     "name": "stderr",
     "output_type": "stream",
     "text": [
      "100%|██████████| 3000/3000 [00:55<00:00, 54.25it/s]\n"
     ]
    },
    {
     "name": "stdout",
     "output_type": "stream",
     "text": [
      "epoch 60loss tensor(1.0192, grad_fn=<DivBackward0>)\n",
      "0.48333333333333334\n"
     ]
    },
    {
     "name": "stderr",
     "output_type": "stream",
     "text": [
      "100%|██████████| 3000/3000 [00:55<00:00, 54.01it/s]\n"
     ]
    },
    {
     "name": "stdout",
     "output_type": "stream",
     "text": [
      "epoch 61loss tensor(1.0190, grad_fn=<DivBackward0>)\n",
      "0.483\n"
     ]
    },
    {
     "name": "stderr",
     "output_type": "stream",
     "text": [
      "100%|██████████| 3000/3000 [00:55<00:00, 54.29it/s]\n"
     ]
    },
    {
     "name": "stdout",
     "output_type": "stream",
     "text": [
      "epoch 62loss tensor(1.0188, grad_fn=<DivBackward0>)\n",
      "0.48233333333333334\n"
     ]
    },
    {
     "name": "stderr",
     "output_type": "stream",
     "text": [
      "100%|██████████| 3000/3000 [00:55<00:00, 54.27it/s]\n"
     ]
    },
    {
     "name": "stdout",
     "output_type": "stream",
     "text": [
      "epoch 63loss tensor(1.0185, grad_fn=<DivBackward0>)\n",
      "0.48233333333333334\n"
     ]
    },
    {
     "name": "stderr",
     "output_type": "stream",
     "text": [
      "100%|██████████| 3000/3000 [00:55<00:00, 53.78it/s]\n"
     ]
    },
    {
     "name": "stdout",
     "output_type": "stream",
     "text": [
      "epoch 64loss tensor(1.0183, grad_fn=<DivBackward0>)\n",
      "0.483\n"
     ]
    },
    {
     "name": "stderr",
     "output_type": "stream",
     "text": [
      "100%|██████████| 3000/3000 [00:55<00:00, 54.32it/s]\n"
     ]
    },
    {
     "name": "stdout",
     "output_type": "stream",
     "text": [
      "epoch 65loss tensor(1.0181, grad_fn=<DivBackward0>)\n",
      "0.483\n"
     ]
    },
    {
     "name": "stderr",
     "output_type": "stream",
     "text": [
      "100%|██████████| 3000/3000 [00:55<00:00, 54.25it/s]\n"
     ]
    },
    {
     "name": "stdout",
     "output_type": "stream",
     "text": [
      "epoch 66loss tensor(1.0179, grad_fn=<DivBackward0>)\n",
      "0.4826666666666667\n"
     ]
    },
    {
     "name": "stderr",
     "output_type": "stream",
     "text": [
      "100%|██████████| 3000/3000 [00:55<00:00, 54.15it/s]\n"
     ]
    },
    {
     "name": "stdout",
     "output_type": "stream",
     "text": [
      "epoch 67loss tensor(1.0177, grad_fn=<DivBackward0>)\n",
      "0.48333333333333334\n"
     ]
    },
    {
     "name": "stderr",
     "output_type": "stream",
     "text": [
      "100%|██████████| 3000/3000 [00:55<00:00, 54.13it/s]\n"
     ]
    },
    {
     "name": "stdout",
     "output_type": "stream",
     "text": [
      "epoch 68loss tensor(1.0174, grad_fn=<DivBackward0>)\n",
      "0.483\n"
     ]
    },
    {
     "name": "stderr",
     "output_type": "stream",
     "text": [
      "100%|██████████| 3000/3000 [00:55<00:00, 54.07it/s]\n"
     ]
    },
    {
     "name": "stdout",
     "output_type": "stream",
     "text": [
      "epoch 69loss tensor(1.0172, grad_fn=<DivBackward0>)\n",
      "0.48533333333333334\n"
     ]
    },
    {
     "name": "stderr",
     "output_type": "stream",
     "text": [
      "100%|██████████| 3000/3000 [00:55<00:00, 54.07it/s]\n"
     ]
    },
    {
     "name": "stdout",
     "output_type": "stream",
     "text": [
      "epoch 70loss tensor(1.0170, grad_fn=<DivBackward0>)\n",
      "0.48533333333333334\n"
     ]
    },
    {
     "name": "stderr",
     "output_type": "stream",
     "text": [
      "100%|██████████| 3000/3000 [00:55<00:00, 54.08it/s]\n"
     ]
    },
    {
     "name": "stdout",
     "output_type": "stream",
     "text": [
      "epoch 71loss tensor(1.0168, grad_fn=<DivBackward0>)\n",
      "0.485\n"
     ]
    },
    {
     "name": "stderr",
     "output_type": "stream",
     "text": [
      "100%|██████████| 3000/3000 [00:55<00:00, 54.24it/s]\n"
     ]
    },
    {
     "name": "stdout",
     "output_type": "stream",
     "text": [
      "epoch 72loss tensor(1.0166, grad_fn=<DivBackward0>)\n",
      "0.48533333333333334\n"
     ]
    },
    {
     "name": "stderr",
     "output_type": "stream",
     "text": [
      "100%|██████████| 3000/3000 [00:55<00:00, 54.12it/s]\n"
     ]
    },
    {
     "name": "stdout",
     "output_type": "stream",
     "text": [
      "epoch 73loss tensor(1.0164, grad_fn=<DivBackward0>)\n",
      "0.486\n"
     ]
    },
    {
     "name": "stderr",
     "output_type": "stream",
     "text": [
      "100%|██████████| 3000/3000 [00:55<00:00, 53.89it/s]\n"
     ]
    },
    {
     "name": "stdout",
     "output_type": "stream",
     "text": [
      "epoch 74loss tensor(1.0161, grad_fn=<DivBackward0>)\n",
      "0.4856666666666667\n"
     ]
    },
    {
     "name": "stderr",
     "output_type": "stream",
     "text": [
      "100%|██████████| 3000/3000 [00:55<00:00, 54.11it/s]\n"
     ]
    },
    {
     "name": "stdout",
     "output_type": "stream",
     "text": [
      "epoch 75loss tensor(1.0159, grad_fn=<DivBackward0>)\n",
      "0.486\n"
     ]
    },
    {
     "name": "stderr",
     "output_type": "stream",
     "text": [
      "100%|██████████| 3000/3000 [00:55<00:00, 54.21it/s]\n"
     ]
    },
    {
     "name": "stdout",
     "output_type": "stream",
     "text": [
      "epoch 76loss tensor(1.0157, grad_fn=<DivBackward0>)\n",
      "0.48633333333333334\n"
     ]
    },
    {
     "name": "stderr",
     "output_type": "stream",
     "text": [
      "100%|██████████| 3000/3000 [00:55<00:00, 54.29it/s]\n"
     ]
    },
    {
     "name": "stdout",
     "output_type": "stream",
     "text": [
      "epoch 77loss tensor(1.0155, grad_fn=<DivBackward0>)\n",
      "0.48633333333333334\n"
     ]
    },
    {
     "name": "stderr",
     "output_type": "stream",
     "text": [
      "100%|██████████| 3000/3000 [00:55<00:00, 54.17it/s]\n"
     ]
    },
    {
     "name": "stdout",
     "output_type": "stream",
     "text": [
      "epoch 78loss tensor(1.0153, grad_fn=<DivBackward0>)\n",
      "0.4866666666666667\n"
     ]
    },
    {
     "name": "stderr",
     "output_type": "stream",
     "text": [
      "100%|██████████| 3000/3000 [00:55<00:00, 54.08it/s]\n"
     ]
    },
    {
     "name": "stdout",
     "output_type": "stream",
     "text": [
      "epoch 79loss tensor(1.0151, grad_fn=<DivBackward0>)\n",
      "0.48833333333333334\n"
     ]
    },
    {
     "name": "stderr",
     "output_type": "stream",
     "text": [
      "100%|██████████| 3000/3000 [00:55<00:00, 54.03it/s]\n"
     ]
    },
    {
     "name": "stdout",
     "output_type": "stream",
     "text": [
      "epoch 80loss tensor(1.0149, grad_fn=<DivBackward0>)\n",
      "0.48833333333333334\n"
     ]
    },
    {
     "name": "stderr",
     "output_type": "stream",
     "text": [
      "100%|██████████| 3000/3000 [00:55<00:00, 53.87it/s]\n"
     ]
    },
    {
     "name": "stdout",
     "output_type": "stream",
     "text": [
      "epoch 81loss tensor(1.0147, grad_fn=<DivBackward0>)\n",
      "0.489\n"
     ]
    },
    {
     "name": "stderr",
     "output_type": "stream",
     "text": [
      "100%|██████████| 3000/3000 [00:55<00:00, 54.00it/s]\n"
     ]
    },
    {
     "name": "stdout",
     "output_type": "stream",
     "text": [
      "epoch 82loss tensor(1.0145, grad_fn=<DivBackward0>)\n",
      "0.48933333333333334\n"
     ]
    },
    {
     "name": "stderr",
     "output_type": "stream",
     "text": [
      "100%|██████████| 3000/3000 [00:55<00:00, 54.31it/s]\n"
     ]
    },
    {
     "name": "stdout",
     "output_type": "stream",
     "text": [
      "epoch 83loss tensor(1.0143, grad_fn=<DivBackward0>)\n",
      "0.48966666666666664\n"
     ]
    },
    {
     "name": "stderr",
     "output_type": "stream",
     "text": [
      "100%|██████████| 3000/3000 [00:55<00:00, 53.77it/s]\n"
     ]
    },
    {
     "name": "stdout",
     "output_type": "stream",
     "text": [
      "epoch 84loss tensor(1.0141, grad_fn=<DivBackward0>)\n",
      "0.491\n"
     ]
    },
    {
     "name": "stderr",
     "output_type": "stream",
     "text": [
      "100%|██████████| 3000/3000 [00:55<00:00, 54.13it/s]\n"
     ]
    },
    {
     "name": "stdout",
     "output_type": "stream",
     "text": [
      "epoch 85loss tensor(1.0139, grad_fn=<DivBackward0>)\n",
      "0.49166666666666664\n"
     ]
    },
    {
     "name": "stderr",
     "output_type": "stream",
     "text": [
      "100%|██████████| 3000/3000 [00:55<00:00, 54.27it/s]\n"
     ]
    },
    {
     "name": "stdout",
     "output_type": "stream",
     "text": [
      "epoch 86loss tensor(1.0137, grad_fn=<DivBackward0>)\n",
      "0.492\n"
     ]
    },
    {
     "name": "stderr",
     "output_type": "stream",
     "text": [
      "100%|██████████| 3000/3000 [00:55<00:00, 54.27it/s]\n"
     ]
    },
    {
     "name": "stdout",
     "output_type": "stream",
     "text": [
      "epoch 87loss tensor(1.0135, grad_fn=<DivBackward0>)\n",
      "0.492\n"
     ]
    },
    {
     "name": "stderr",
     "output_type": "stream",
     "text": [
      "100%|██████████| 3000/3000 [00:55<00:00, 54.23it/s]\n"
     ]
    },
    {
     "name": "stdout",
     "output_type": "stream",
     "text": [
      "epoch 88loss tensor(1.0133, grad_fn=<DivBackward0>)\n",
      "0.49166666666666664\n"
     ]
    },
    {
     "name": "stderr",
     "output_type": "stream",
     "text": [
      "100%|██████████| 3000/3000 [00:55<00:00, 54.08it/s]\n"
     ]
    },
    {
     "name": "stdout",
     "output_type": "stream",
     "text": [
      "epoch 89loss tensor(1.0131, grad_fn=<DivBackward0>)\n",
      "0.49266666666666664\n"
     ]
    },
    {
     "name": "stderr",
     "output_type": "stream",
     "text": [
      "100%|██████████| 3000/3000 [00:55<00:00, 54.02it/s]\n"
     ]
    },
    {
     "name": "stdout",
     "output_type": "stream",
     "text": [
      "epoch 90loss tensor(1.0129, grad_fn=<DivBackward0>)\n",
      "0.493\n"
     ]
    },
    {
     "name": "stderr",
     "output_type": "stream",
     "text": [
      "100%|██████████| 3000/3000 [00:55<00:00, 53.88it/s]\n"
     ]
    },
    {
     "name": "stdout",
     "output_type": "stream",
     "text": [
      "epoch 91loss tensor(1.0127, grad_fn=<DivBackward0>)\n",
      "0.494\n"
     ]
    },
    {
     "name": "stderr",
     "output_type": "stream",
     "text": [
      "100%|██████████| 3000/3000 [00:55<00:00, 54.05it/s]\n"
     ]
    },
    {
     "name": "stdout",
     "output_type": "stream",
     "text": [
      "epoch 92loss tensor(1.0125, grad_fn=<DivBackward0>)\n",
      "0.49466666666666664\n"
     ]
    },
    {
     "name": "stderr",
     "output_type": "stream",
     "text": [
      "100%|██████████| 3000/3000 [00:55<00:00, 53.74it/s]\n"
     ]
    },
    {
     "name": "stdout",
     "output_type": "stream",
     "text": [
      "epoch 93loss tensor(1.0123, grad_fn=<DivBackward0>)\n",
      "0.495\n"
     ]
    },
    {
     "name": "stderr",
     "output_type": "stream",
     "text": [
      "100%|██████████| 3000/3000 [00:55<00:00, 54.32it/s]\n"
     ]
    },
    {
     "name": "stdout",
     "output_type": "stream",
     "text": [
      "epoch 94loss tensor(1.0121, grad_fn=<DivBackward0>)\n",
      "0.496\n"
     ]
    },
    {
     "name": "stderr",
     "output_type": "stream",
     "text": [
      "100%|██████████| 3000/3000 [00:55<00:00, 54.21it/s]\n"
     ]
    },
    {
     "name": "stdout",
     "output_type": "stream",
     "text": [
      "epoch 95loss tensor(1.0119, grad_fn=<DivBackward0>)\n",
      "0.49533333333333335\n"
     ]
    },
    {
     "name": "stderr",
     "output_type": "stream",
     "text": [
      "100%|██████████| 3000/3000 [00:55<00:00, 54.14it/s]\n"
     ]
    },
    {
     "name": "stdout",
     "output_type": "stream",
     "text": [
      "epoch 96loss tensor(1.0117, grad_fn=<DivBackward0>)\n",
      "0.496\n"
     ]
    },
    {
     "name": "stderr",
     "output_type": "stream",
     "text": [
      "100%|██████████| 3000/3000 [00:55<00:00, 54.11it/s]\n"
     ]
    },
    {
     "name": "stdout",
     "output_type": "stream",
     "text": [
      "epoch 97loss tensor(1.0115, grad_fn=<DivBackward0>)\n",
      "0.49666666666666665\n"
     ]
    },
    {
     "name": "stderr",
     "output_type": "stream",
     "text": [
      "100%|██████████| 3000/3000 [00:55<00:00, 54.05it/s]\n"
     ]
    },
    {
     "name": "stdout",
     "output_type": "stream",
     "text": [
      "epoch 98loss tensor(1.0114, grad_fn=<DivBackward0>)\n",
      "0.49633333333333335\n"
     ]
    },
    {
     "name": "stderr",
     "output_type": "stream",
     "text": [
      "100%|██████████| 3000/3000 [00:55<00:00, 54.29it/s]\n"
     ]
    },
    {
     "name": "stdout",
     "output_type": "stream",
     "text": [
      "epoch 99loss tensor(1.0112, grad_fn=<DivBackward0>)\n",
      "0.49633333333333335\n"
     ]
    }
   ],
   "source": [
    "file = open(path,'r',encoding='utf-8')\n",
    "cases = file.readlines()\n",
    "cases = [json.loads(i) for i in cases]\n",
    "file.close()\n",
    "epoch  = 100 \n",
    "from transformers import AdamW\n",
    "lr = 2e-5\n",
    "optimizer = AdamW(model.parameters(), lr=lr)\n",
    "from torch import nn \n",
    "length = len(cases)\n",
    "from tqdm import trange \n",
    "CE_loss = nn.CrossEntropyLoss()     #定义损失函数\n",
    "for i in range(epoch):\n",
    "    losses  = 0 \n",
    "    correct = 0 \n",
    "    for index  in trange(length):\n",
    "        output  = model(cases[index])\n",
    "        label   = torch.tensor(cases[index]['label'])\n",
    "        loss = CE_loss(output,label)\n",
    "        losses+=loss\n",
    "        loss.backward()\n",
    "        optimizer.step()\n",
    "        optimizer.zero_grad()\n",
    "        if torch.argmax(output)==label:\n",
    "            correct+=1\n",
    "    print('epoch '+str(i)+'loss',losses/length)\n",
    "    print(correct/length)\n",
    "    if i%10==0 or i == epoch-1:\n",
    "        torch.save(model,str(i)+\"th_model.model\")"
   ]
  },
  {
   "cell_type": "code",
   "execution_count": 130,
   "metadata": {},
   "outputs": [],
   "source": [
    "torch.save(model,\"binaryclass.model\")"
   ]
  },
  {
   "cell_type": "code",
   "execution_count": 132,
   "metadata": {},
   "outputs": [
    {
     "name": "stdout",
     "output_type": "stream",
     "text": [
      "tensor([2634,  262, 2724, 1535,  279, 1246, 1000, 1783,  273,  821,  786,  509,\n",
      "        1348, 1634, 1054, 1952])\n",
      "tensor([2447, 2556,  408, 2412,   52, 2943,   80, 2304, 2911, 1719,  423, 2639,\n",
      "        2659, 1633,  340, 1957])\n",
      "tensor([2503, 1338, 2368, 2230, 1523, 1746, 1395, 2184, 1890, 2180, 2762, 2768,\n",
      "        2359, 2494,  413, 1259])\n",
      "tensor([ 380,  412, 2799, 1350,  901, 1230, 1697, 1180,  252,  109,  353, 2029,\n",
      "        1047,  798, 2156, 2459])\n",
      "tensor([1787, 1074, 2490, 1818,  456,  505, 1362,  870, 1138,  940, 1391, 2849,\n",
      "        1087, 2636, 2314, 2638])\n",
      "tensor([ 777, 1946,  961,   33,  991, 1142,  619, 1711, 1514,  199, 2982,  278,\n",
      "         467,  702, 1516,  770])\n",
      "tensor([1083, 2301, 1521, 1683, 1186,  259,  888, 1569, 2101, 1465,  116, 2641,\n",
      "         585, 1994, 1211, 1490])\n",
      "tensor([1561, 1657, 1092, 2660,   15, 2248, 2872,  620, 1382, 2052, 2998,  889,\n",
      "        2193, 1183, 1953, 1217])\n",
      "tensor([2824, 2008, 1254,  748,  101, 1158, 1547,   28,  125, 2767, 2528, 1802,\n",
      "         736, 2905,  754, 1584])\n",
      "tensor([1388, 1652, 1949, 2608, 2865, 1009, 2330, 2416, 1732,  520,  381,  935,\n",
      "        2867,  896,  912, 1378])\n",
      "tensor([ 154, 2339,  989, 2041, 1962, 2335,  919, 2132, 1842, 1404,  775, 1433,\n",
      "         974, 1415,  510,  191])\n",
      "tensor([2521, 2618,  427, 2031, 1566,  868,  108, 2108, 2510,  504, 2007, 1822,\n",
      "        2812, 1374, 1753,  641])\n",
      "tensor([2259, 1925, 1102, 2834,  336, 1402, 1205, 2347,  460, 1970, 2360, 2322,\n",
      "        2704, 1233,  209, 2609])\n",
      "tensor([1537, 2388, 1160, 1929, 1824, 1877, 1290,  621, 2466, 2174, 1504, 1701,\n",
      "        2687, 1557, 2836, 1319])\n",
      "tensor([2874,  179, 2278, 1332, 2550, 2063, 1093,  582, 1814, 2690, 2662, 2631,\n",
      "        1033, 2673, 1082,  414])\n",
      "tensor([2711,  393, 1576, 2574, 2703, 2925, 2773, 2026, 2515,  855, 2596,  491,\n",
      "        2664, 1326, 2666, 2644])\n",
      "tensor([2536, 1904,  312, 2054, 2683, 2316,  745, 1688,  295, 2871, 2919, 2090,\n",
      "         944, 2928, 2484, 1598])\n",
      "tensor([1637,  965, 2270, 1621, 1451, 2904,  846, 1294, 2491, 2686,  814,  356,\n",
      "        1911, 1209, 2234, 2678])\n",
      "tensor([2318, 2280, 1460, 2250, 2474, 2405,  982, 1022,  580,  207, 1249, 1226,\n",
      "        2614, 2891, 2754,  550])\n",
      "tensor([1580, 1080,   68, 2831, 2402, 2406,  130, 1334, 2606, 2086, 1229, 2810,\n",
      "        2080,  324,  300, 1470])\n",
      "tensor([  57, 1803, 1346, 2960,  646,   97, 1055, 1122, 2792,  144,  270,  415,\n",
      "         274, 2887,  979, 2806])\n",
      "tensor([ 831,  588,  396, 2120, 1052,  181, 1010,  294, 2223,  567, 1135,  713,\n",
      "        2603, 1040, 2745,  158])\n",
      "tensor([2201, 1491, 2312, 2291, 1873, 2858, 2882, 2987, 2461, 1148, 1884,   98,\n",
      "         817, 1702, 2924, 2125])\n",
      "tensor([1477, 1684,  587,  805, 1447,   39,  535, 1121, 1169, 1725, 1215, 1203,\n",
      "        2944,   46, 2549, 2255])\n",
      "tensor([1546, 2876,  431,   71, 1243,  168,  871,  286, 1740, 1789, 1314, 1287,\n",
      "         254,  532, 1145, 1163])\n",
      "tensor([1800,  322,   49, 2945,  722, 1827, 1413,  410, 1272, 2265, 2981, 1185,\n",
      "        1735,  443, 1435, 1524])\n",
      "tensor([ 866,  382, 1738, 1304, 2735, 2408, 2736, 2338, 1295, 1675, 1906,  653,\n",
      "         749, 2723, 1530, 2308])\n",
      "tensor([1713, 2783, 1805, 2517, 2575,  668, 1595, 2396, 1689,  612, 1987, 2438,\n",
      "        2037, 1609,   72, 1582])\n",
      "tensor([2357, 1618, 1518,  224,  536, 2626, 1651, 2298, 2674,  665, 2290, 2154,\n",
      "        2841,    9, 1945, 2570])\n",
      "tensor([1832, 1493, 2167, 2956, 2844, 1301, 2340, 1591,  680,  679, 2307, 2930,\n",
      "         973, 2471, 2815, 2784])\n",
      "tensor([1984, 2526, 2986, 1960,  369, 1210,  407, 2219,  477, 1531,  776,  728,\n",
      "        2900,  936,  874, 2152])\n",
      "tensor([1570,  297, 2502, 2386, 2583,  106, 1897, 2781, 1473, 2299, 1854, 2576,\n",
      "        1296, 1568,  768, 1021])\n",
      "tensor([2218, 2561, 1989, 2511,  327, 2804, 1695, 2947,  652,  816, 2708, 2978,\n",
      "         723, 2190, 1796, 2102])\n",
      "tensor([ 314, 2002,  845,   23,  914, 1347, 2619, 1245, 1485,  398, 1432,  365,\n",
      "         222, 2481, 2785, 2393])\n",
      "tensor([ 132, 2377, 2151,  576, 1720, 1488,  971, 2445, 1329, 2993, 1153, 2700,\n",
      "        1937, 1316,  639, 1037])\n",
      "tensor([2953,  440,  388,  877, 1150, 1291, 1126, 1513, 2246,  942, 2305,  542,\n",
      "         230, 2076, 1123,  301])\n",
      "tensor([ 236, 1339, 2058,  910, 1644, 2744,  848, 2425, 1549, 2563, 1250,  933,\n",
      "        2731, 1686, 2258, 2934])\n",
      "tensor([ 815, 2382, 1146, 2030, 1202, 2529,  739, 1835,  841,  100, 1384, 2276,\n",
      "        2387, 2169, 1187, 1774])\n",
      "tensor([ 145, 2765,  229, 2652, 2676, 1443,  778, 1988, 2537,    2, 1889, 1863,\n",
      "        2591, 1961, 2371, 2794])\n",
      "tensor([ 444, 2791,  720, 2269, 1916,  696, 1112,  943,  810,  925, 1936,  785,\n",
      "         476, 2847, 1216, 1117])\n",
      "tensor([1006,  684, 2749, 2202, 2620, 2071, 2541, 1975, 2586,  146,  873, 1157,\n",
      "        2970, 2326, 1676, 1923])\n",
      "tensor([1764,  404, 1394, 1401,  600, 2627, 1786, 1874,   94, 2353, 2681, 2845,\n",
      "        2839, 2313, 1058, 1247])\n",
      "tensor([1106, 1579, 1119,  420,  319,  759, 1170,   50,  556, 2558,  784, 2079,\n",
      "        2178, 1926, 1343,  481])\n",
      "tensor([1467, 1386, 1419, 1159, 2122, 2110,  678,  756, 1690, 1736, 2864, 2480,\n",
      "        1097, 1845, 1201, 1420])\n",
      "tensor([1571, 2482, 2820,  970, 2170, 1704, 1563,  465, 1951,  200, 2162,  660,\n",
      "        2226,  182, 1828,   26])\n",
      "tensor([ 842, 2698, 2646,  957, 2372,  216,  155, 1450, 2989, 1888, 2081, 1048,\n",
      "         213, 1950,  208, 2514])\n",
      "tensor([ 985, 1915, 2913,  772, 1808,  569, 2729,  731, 2895,  838, 2647,  527,\n",
      "        2732, 1558, 2302, 2133])\n",
      "tensor([ 281, 2861, 2380, 2249, 2701,  624, 1715,  429, 2075,  793, 2376, 1132,\n",
      "        2588, 1727,  656, 1829])\n",
      "tensor([ 747, 1357, 1188,  716, 1280, 1977, 1298, 1614, 1663, 1261, 2545,  373,\n",
      "        1629,  245,  994,  750])\n",
      "tensor([ 220,   12,  633, 2268,  445, 2959,  449,  167, 2523, 1973, 1184, 2667,\n",
      "         599, 1942,  232, 1920])\n",
      "tensor([ 883, 2939, 1390, 2351,  120,  391, 2233, 2499, 1149, 1641, 2898, 2946,\n",
      "         343, 1214, 2473, 1650])\n",
      "tensor([1425,  166,  788,  797, 1412, 1503, 1130, 2579, 2722, 2801, 1747, 2965,\n",
      "        2581, 2142,  766,  662])\n",
      "tensor([2364, 2373,  546, 1948,  707, 2176,  704, 1136,  395, 1263,  331, 2320,\n",
      "        2117, 2755, 1673, 1933])\n",
      "tensor([1976, 2886, 1607, 1790, 2285,  949,  830, 2399,  663, 2317, 1505, 1572,\n",
      "         885, 1510,  545, 1837])\n",
      "tensor([2578,  375, 1194,  519,  819, 2538, 1003, 1480, 2760,    6,  269, 1900,\n",
      "         616,  318, 1397,  538])\n",
      "tensor([1910, 2332,  695,  988, 2097, 1778,  225,  205, 1241, 1749, 2153, 2751,\n",
      "        1556, 1061, 2452, 1285])\n",
      "tensor([2893, 2237, 2902,  219, 1264,  932, 1232, 2948,  920, 2342,  638,  851,\n",
      "         175, 1958, 1540, 2363])\n",
      "tensor([ 623, 2888, 1991,  192,  342,  954, 2937, 2047,   90, 2750,   24,  514,\n",
      "        2559, 1737, 2383, 1462])\n",
      "tensor([1655, 2424,  315, 2229, 2520,  479, 1234,  194, 1173,   77,  547,  524,\n",
      "        1901, 2855, 1816,  496])\n",
      "tensor([ 112, 2005, 2889, 1820, 2685,  674, 2146,   34, 1628, 1436, 2442, 1111,\n",
      "         826, 1424, 1924,  853])\n",
      "tensor([ 849,  272,   47, 1029, 1830, 1065,  352,  189, 2764, 1821, 1143, 1613,\n",
      "         237,  564,  399,  709])\n",
      "tensor([ 941, 2168, 2923,  258,  834,  478,  186, 1867, 1534, 1981,  593, 2961,\n",
      "        2896, 2938, 2540, 2432])\n",
      "tensor([1091, 2069,  751, 1456, 1862, 1023,  822, 1466,  534, 1857,  464,  922,\n",
      "        2242, 2991,  837,  802])\n",
      "tensor([ 141,  212, 2321, 2188, 2263, 1070,  493, 2337, 1279, 2487,  523,  880,\n",
      "        2531, 1277,  712,  103])\n",
      "tensor([2682, 1763, 2830,  129, 1954,  454, 2389, 2935,  875, 2179,  138,   42,\n",
      "        2985,  347, 1383,   59])\n",
      "tensor([1734, 1137,  644, 2127, 1405, 2509, 2769,  560, 1274,  787, 1337, 2838,\n",
      "        1446,  548,  820,  732])\n",
      "tensor([1585, 1512, 1455, 1300, 2663, 2852,  604,  603,  795, 1788, 1927, 2225,\n",
      "         699, 2727, 1342, 2950])\n",
      "tensor([1903,  865, 2456, 2049,   31, 1118,   64, 1177, 2692, 2622,  471,  596,\n",
      "         575, 1242, 2213, 2171])\n",
      "tensor([1640, 1507, 1212,   36, 2134, 2835, 2829, 1497,  677, 2522, 2485,  372,\n",
      "        2411, 2525, 2124,  468])\n",
      "tensor([1801, 1922,  151,  255, 1538,  282,  152, 1120,  829, 2677, 1231,  591,\n",
      "        2329, 2284, 1819, 1484])\n",
      "tensor([1667, 2443,  371,  438, 2705, 1709, 2236, 2096,  590, 1849, 1793, 1883,\n",
      "        2560, 1745, 2535,  470])\n",
      "tensor([ 953, 1791, 1944, 1068,  799, 2949, 1060, 1124, 1826,  435,  950, 1999,\n",
      "        2805, 1955,  235, 2955])\n",
      "tensor([1366, 1198, 1494,  218,  996, 2023, 1333, 2699, 1578,  634, 2980, 1983,\n",
      "        1133, 2277, 1053, 2758])\n",
      "tensor([1364, 1928,  406,  541,  268, 1912, 2039,  572, 1596, 2092,  609,  124,\n",
      "        2175, 1227,  402, 1472])\n",
      "tensor([ 196, 1017, 1239, 1271, 1935,  537, 2793, 1700,  401,  302,  131, 1268,\n",
      "         687, 2941, 2565, 2423])\n",
      "tensor([1007, 1140,  114, 1858,  178, 2105, 2385,  730, 2562,  998, 2267,  461,\n",
      "          58, 1240, 2166, 2853])\n",
      "tensor([ 516,  690, 1784, 2697, 1839, 1669, 1064, 2932, 1879, 2021,  469,  474,\n",
      "         958, 2282,  390, 1548])\n",
      "tensor([2761,  625,  529, 1723, 2011,  397, 1848,  992,  121, 2441,  773, 2297,\n",
      "         325, 2974, 2564, 2610])\n",
      "tensor([1658, 1181, 2657,  727, 1020, 2718,  764, 2057, 1481,  240, 1221,  563,\n",
      "        1631, 1892, 2272, 2709])\n",
      "tensor([1894,   82, 2135, 1656,  977,  667, 2211, 2187, 1771,  434,  253,  451,\n",
      "        1577, 1478,  320,  328])\n",
      "tensor([2245, 2544,   53, 2414, 1463, 1434,  899, 1509,  906, 2595, 2183,  801,\n",
      "        2158, 2813, 1483,  526])\n",
      "tensor([2720, 2204, 1035, 1980, 1662, 1997, 1223, 1583, 1324, 1193, 1375, 1708,\n",
      "           7, 1073,  543,  987])\n",
      "tensor([ 363, 2111, 2637, 2418,  494,  351, 1400, 2684,  594, 2362, 1448, 1168,\n",
      "        2366,  647, 2910, 1617])\n",
      "tensor([1759, 1575, 2920, 2420, 2403,  632,  163, 2082, 2842, 1370, 2656,  104,\n",
      "        2828, 2400, 1831, 1722])\n",
      "tensor([1718, 2194, 1536, 2587, 1526, 2650, 1303, 2022, 1387, 1468, 1038,  963,\n",
      "        1913, 2922,  512,  117])\n",
      "tensor([1292, 2696, 1418, 1255,  374,  517,  929, 1804, 2319, 1773,  248, 2131,\n",
      "        2185, 1649, 2375, 2281])\n",
      "tensor([ 813,  800, 1024, 1757,  448, 2173,  752, 2095, 1281, 1014, 1898, 2130,\n",
      "        2513, 2629, 1196, 2407])\n",
      "tensor([ 758, 1654, 2990, 1712,  266,   56,   69, 1095, 2599, 2068, 1471, 2010,\n",
      "        2065,   19,  290,  980])\n",
      "tensor([2890,  442, 1361, 2208, 2006, 2915, 1392,  211,  187,  370, 2341, 1164,\n",
      "         990, 1527,  911, 1677])\n",
      "tensor([1567, 1422, 2612, 2501, 2504,  400,  177,  891, 1311,  385,  508,   79,\n",
      "        1129,  457,  128,  666])\n",
      "tensor([ 358, 1081,  339,  231, 1005,  162, 1748, 1103,  725, 2220, 2776, 1015,\n",
      "        2725, 2123, 2018,  566])\n",
      "tensor([ 142, 1696,  165, 1615, 2083, 2615,  190, 2279, 1823, 1191, 2779, 1619,\n",
      "         405,  499,  649,  606])\n",
      "tensor([2547, 2271, 2542, 1071, 2098, 2979,   84,  718, 2508,  462,   40, 2003,\n",
      "         650,  349, 2593, 2410])\n",
      "tensor([ 554,  378,  613, 1956, 1109,  923, 2200, 2859, 2875, 1931,  533, 1349,\n",
      "        2155,  488, 1506, 1728])\n",
      "tensor([1155, 2323,  581, 1323,  757,  570,  193, 2140,  921, 1743, 2394, 2840,\n",
      "        2227,  480,  959, 1882])\n",
      "tensor([1605, 1919, 1032, 2670, 2137, 1438,  333, 2532, 2617, 2821, 2398, 2571,\n",
      "         654, 2113, 2837, 1276])\n",
      "tensor([2555, 1369, 1645, 2203, 2165, 2214, 2601, 2519,  577, 2738, 1077,  938,\n",
      "         561,  898, 2962, 1454])\n",
      "tensor([ 344, 1107, 1385, 2454,  180, 1358, 1806, 2716,  657, 1320, 1646, 2493,\n",
      "        1859, 1161,  951, 2138])\n",
      "tensor([2788, 1966, 2770,  626,  452, 2817, 2892, 2811, 1088, 2422,  803, 2746,\n",
      "          75, 1765, 2954, 1978])\n",
      "tensor([  17, 1414, 1235,  909,  552, 1377,  217, 2397, 2772, 1176, 2648,  299,\n",
      "        1075,  847,  239, 1308])\n",
      "tensor([1565, 2739, 2205, 2995, 2775, 2524,  140, 2568, 2554,  565, 1469,  149,\n",
      "        1573,  458,  605, 2036])\n",
      "tensor([1843, 2024,  287, 1886,  386,  579,  648,  346, 1365,  387,  907, 2019,\n",
      "         711, 2903, 1678,  184])\n",
      "tensor([1373, 1018, 2854, 2977, 2358, 1993,  242, 1947, 1779, 2672, 1781, 2958,\n",
      "        2901, 1706, 2752, 1036])\n",
      "tensor([ 761, 1105, 1865, 1335, 2616,  611, 2500, 1282,  360, 1777, 1222, 1587,\n",
      "        1668,   32,  176, 2051])\n",
      "tensor([ 629, 1647, 2053, 2352,  592, 1770, 1971, 1104, 1028, 2628, 1782, 2706,\n",
      "        1306,  738, 1389,  172])\n",
      "tensor([1776,  446, 1974,  755,  203,  490,  659,  110,  692, 2448, 1078,   29,\n",
      "         671, 1871,  608,   87])\n",
      "tensor([1661,  726, 1265, 1302, 2103, 2067, 2860, 2590,  198, 1336, 1992, 1063,\n",
      "        2464, 1918,  164, 2392])\n",
      "tensor([1275,  824, 1175, 2251,  291,  661,  518, 2778, 2899, 2458, 2488, 1817,\n",
      "        2929, 2668, 1825, 1699])\n",
      "tensor([1744, 2733, 1635, 2734, 2014,  956, 2972, 1368,  227, 1698, 1182,   43,\n",
      "        2713,  557, 2189, 1502])\n",
      "tensor([1551, 2880, 2737, 2104, 1741, 1870,  127, 1225, 2409, 1600, 1766, 1172,\n",
      "        1716, 2247, 2572, 1729])\n",
      "tensor([2833, 2789, 1100, 2325, 1260,  808,  421, 1167, 2324,   86, 1479, 2056,\n",
      "         126,  783, 2992, 2417])\n",
      "tensor([1772, 2721,   20,  806,  156, 1154, 2999,  863,   78,  574, 2157, 1893,\n",
      "         637,   11, 2073, 2344])\n",
      "tensor([2850, 2040, 1262,  558, 2109,  852,  689, 1638,  984, 1754,  774,  425,\n",
      "        1409, 2121,  640,  528])\n",
      "tensor([1586, 2649, 2034,  271, 2822, 2292,  881,  392, 1780, 2680,  501, 1114,\n",
      "        1367, 1016,  598, 2476])\n",
      "tensor([ 555,  308,  670, 1197,  782,  962, 1679,  311,  326, 2966, 2015,  697,\n",
      "         858,  296, 1914, 2044])\n",
      "tensor([1880, 2790,  986, 2161, 2968,  887,  876,  960,  559, 2289, 1315, 2597,\n",
      "        1110,  809, 2077, 2348])\n",
      "tensor([2274,  422, 2078, 2064, 2336, 1899, 1043, 2552,  337,   48,  135, 2470,\n",
      "        2936, 2260, 2584,   91])\n",
      "tensor([ 341,  578,  900,  571, 2032,  215, 2577, 1442,  515,  924, 2084, 1943,\n",
      "        1594, 2976, 1108, 2141])\n",
      "tensor([1200,  267,  214, 1495,  928, 2661,  861, 1289, 2580, 1574,  513,  685,\n",
      "          30,  643,  105, 1178])\n",
      "tensor([1810, 1340, 2460,  143, 2478, 2228, 1393,  489, 2391,  366,  244, 1464,\n",
      "        2257,  409, 2777, 2952])\n",
      "tensor([2916,  636, 1427, 2866,  247, 2566, 2415,  955, 2486,  228, 2199,   81,\n",
      "         359, 2253,  832,  463])\n",
      "tensor([ 234, 1066, 2624, 2688, 2710, 2808,  862, 2814,  895, 2691,  828,  763,\n",
      "        2730,  243, 2655, 1113])\n",
      "tensor([2296, 2331,   41, 2453, 1266, 1439, 2087, 1476,  424, 1671, 1601,  289,\n",
      "        1775,  447,  968, 1724])\n",
      "tensor([ 724, 1985, 1341, 2963,  939,   63, 2712, 1934,  589,  886, 2287,  139,\n",
      "        2378, 1853,  781, 2016])\n",
      "tensor([1721, 1622,  744,  148, 1487, 1498,  134, 1085, 1228, 1794, 1116, 1152,\n",
      "         614,  833, 1672, 1542])\n",
      "tensor([2369,  306,  188,  430,  771,  553,  904, 2027, 2506, 2774,  355, 1959,\n",
      "        1795,   55, 2600, 2931])\n",
      "tensor([ 265,  740,  161, 1069,  967,  686, 1755, 2241,  703,  622, 1761, 1851,\n",
      "        1440,  309, 2042, 2413])\n",
      "tensor([ 658, 2832, 1299, 1681,  857,  715, 1707, 2642, 1283, 1459,  472, 2826,\n",
      "        1751, 2437, 2756,   92])\n",
      "tensor([ 487,  682,  437, 1452,   62, 2467, 2091, 2311, 1660,  882, 2604, 1406,\n",
      "        2172, 1730, 1908, 1752])\n",
      "tensor([2498,  733,  160, 2367, 1639, 1431,  483, 1330,  737, 2224, 2857, 2870,\n",
      "        1895, 2028,  298, 2507])\n",
      "tensor([1940, 2379, 2239,  498, 2927,  338,  976,  993, 2346, 2516,  934, 1642,\n",
      "         790,  741, 1328, 2803])\n",
      "tensor([ 769,  122,   66, 2216, 1046, 1127, 2753, 1049, 1750, 2191,   60, 1921,\n",
      "        2238,  418,    5,  133])\n",
      "tensor([2665, 2310, 2426,  171, 1838, 1174,  136, 1144, 2182, 2632, 1030,  664,\n",
      "        2264, 1165, 2381, 2088])\n",
      "tensor([2395, 1544, 2940, 1489, 2033,  836,  947, 2013,  170,   83, 1666,  872,\n",
      "         791, 2457, 2551, 2150])\n",
      "tensor([2209,  256, 2873,    0, 2798,  416, 2477, 1964, 1062, 1756, 1147, 2997,\n",
      "        2942, 1539, 2354, 1416])\n",
      "tensor([1238,  113, 2589, 1025, 2126, 2921, 1902,   88, 1643, 1101,  361, 2611,\n",
      "        1876, 2592, 1084,  288])\n",
      "tensor([ 206, 2435, 1692, 2878, 1125, 2129,  195,  183, 2345,  807, 1872, 2136,\n",
      "        2766, 2757, 2293,  767])\n",
      "tensor([1533, 1815, 2869,  627, 2306, 1792,  525,   95, 2759, 1351, 1836, 1012,\n",
      "        1089,  123,  753, 2800])\n",
      "tensor([2573,   37, 1917, 2197, 2795,  233,  779, 1768,  201, 2633, 1099,  313,\n",
      "        2100, 1072, 2160, 1096])\n",
      "tensor([ 389, 1482,  878,  789, 1501,  734, 2468,  511,  433, 2327, 1041, 2243,\n",
      "        2695,   38, 2093, 1429])\n",
      "tensor([2613,  607, 1411, 2863,  615, 2355, 2533, 1421, 1396,  305,  673,  978,\n",
      "        1219,  568, 1457, 1162])\n",
      "tensor([ 453,  241, 1785, 1031, 2926, 2004, 1166, 1312, 1372,  250, 1496, 1597,\n",
      "         497, 2630,  765,  335])\n",
      "tensor([2957, 2967, 1529, 1972, 1321,  981, 1543, 2702, 1345, 2728, 1428, 2115,\n",
      "        1797, 2594, 2210,  843])\n",
      "tensor([ 746, 1076, 1128, 1208, 1244,  364, 2879, 1742,  645, 2640,  261,  617,\n",
      "         204,  890, 1004, 2212])\n",
      "tensor([ 439, 1986,  530,  551, 1705,  997,  812, 2232,  157, 1094, 1500, 2144,\n",
      "        2164, 2782,    8, 1151])\n",
      "tensor([1515, 2645, 1353, 1545, 1256, 1426, 1608, 1437, 2116, 2009, 1717, 1520,\n",
      "         466, 1541, 1079, 2546])\n",
      "tensor([1251, 1371,  964, 1562, 1866,  330, 1967, 1682,  972, 1878,  307,  403,\n",
      "        2294,  735, 2527, 2505])\n",
      "tensor([2206,  257, 1807, 2802, 2653,  280, 2786,  742, 1616, 1714, 1812, 1218,\n",
      "        2000,  482, 2492, 2433])\n",
      "tensor([2567,  321,  683,  796, 2060,   74,  792, 2918, 1044, 2569, 1626, 1659,\n",
      "        2679,  835, 2195, 2462])\n",
      "tensor([  89,  428, 1968, 1199, 2181, 2215, 2605, 1809, 1733,  804,  948, 1310,\n",
      "          65, 1090,  432, 2707])\n",
      "tensor([2099,   35, 1257, 1359,  610,  260, 2295, 2085, 2635,   54, 1171, 2557,\n",
      "        2303, 2693, 1588, 1475])\n",
      "tensor([2714,  794,  221, 2235, 1379, 1636, 1327,  691, 2148, 2643, 2139, 1833,\n",
      "          21,  760,  249, 2349])\n",
      "tensor([2553,  246, 1236, 1381,  930, 2059, 2881, 2823, 1602, 2598,  426, 2221,\n",
      "        2983, 2933, 2602,  202])\n",
      "tensor([ 150,  549, 1331, 1352,  283, 2283, 1852, 2825, 2742, 2198, 2971, 2912,\n",
      "        1474, 1253,  908, 2288])\n",
      "tensor([ 334, 2440, 1726,   16,   14, 1589, 1322,  118, 2147, 1309,   76,  892,\n",
      "        1039, 1932,  902,  676])\n",
      "tensor([1905, 2035,  681, 1248, 1192, 2479, 2539,  310, 1685, 1844, 2743,  879,\n",
      "        2436,  867, 1612,  983])\n",
      "tensor([1593,  111, 1525,  450, 1731,  345,   22,  500, 2261,  717, 2112, 2240,\n",
      "        1519, 1220,  486,  827])\n",
      "tensor([ 721, 2585,   25, 1410, 1869,  119,  952, 1887,  864,  159,  417, 1559,\n",
      "         743,  419, 1703,  915])\n",
      "tensor([ 506,  903, 2906, 2421, 2252,  946, 2001,  185, 2625,   18,  284, 1847,\n",
      "        1939, 2286, 2868, 1051])\n",
      "tensor([ 263, 2328, 1344, 1982,  304, 2495,  708,  197, 1011,  966, 2384, 1762,\n",
      "        2072, 1996, 2543, 2496])\n",
      "tensor([2908, 2106,  507,  840, 2809, 1376, 1670, 1293, 2343, 1313,  539,  357,\n",
      "         362, 1855, 2163,  495])\n",
      "tensor([2114, 2055, 2446,  916, 1550, 2177,  675, 2621, 2856, 2797, 2671,  540,\n",
      "        1458,  115, 2444,  897])\n",
      "tensor([2741, 2715, 1305, 2048,  285, 2675,  503,  384, 2365, 2658, 2996, 2740,\n",
      "        2654, 2984, 1861, 1590])\n",
      "tensor([1207, 1606,   73, 1318,  107, 1354, 2275,   70, 2455, 1930,  348,  102,\n",
      "         441, 2669,   61, 1850])\n",
      "tensor([ 995, 2917, 2623, 2038,  303, 2780, 2128, 1001, 2450, 2719, 1581,    1,\n",
      "        2846, 1278, 1156,  586])\n",
      "tensor([1592,  635,  844, 2145, 1881,  651, 1050,  672,  698, 1360,  693, 2818,\n",
      "         931, 1611, 2973,  485])\n",
      "tensor([ 521, 1430, 2897,  630, 1139, 2530, 2217, 1284, 2951,  522, 1564, 2877,\n",
      "         436, 2582, 2370, 1841])\n",
      "tensor([  10, 2807, 1356,  893,  945,  884, 1522, 1307, 1799,  251, 2300, 1864,\n",
      "        2512, 1680,  173,   85])\n",
      "tensor([2763, 2534, 1674,  379, 2489, 1938, 1453, 1086, 2315, 1625, 1492, 1026,\n",
      "        1206, 1461, 2883, 2401])\n",
      "tensor([2969, 2066, 1868, 1444,  918, 2143, 1508,   93, 1990,  856,  544, 1687,\n",
      "         694, 2439,  975,  484])\n",
      "tensor([ 859,  818, 2192, 1941, 2827, 2196, 2428, 2390, 1486, 2851, 1758, 1856,\n",
      "        2046, 1875, 1767,  502])\n",
      "tensor([ 839, 1204,  894, 1969,  780, 1067, 1270, 2089, 2419, 2848,  394,  238,\n",
      "        1885,  854, 1965, 1499])\n",
      "tensor([ 350, 2017,  762, 2909,   99, 2771, 1769, 2062, 2964, 1269, 1325,  573,\n",
      "         602, 1408, 1398, 1059])\n",
      "tensor([ 669,  811,  368,  153, 1098, 2254,   45, 2061,  147,  584, 2119, 2374,\n",
      "        1286, 2207,  631,  825])\n",
      "tensor([1045,  376,   13, 1896, 2309,  275,  562,  411,  332, 2469, 2894,  292,\n",
      "         850, 1288, 2350, 1963])\n",
      "tensor([ 276, 2726, 2975, 1998, 2885,  210, 2747, 2012,  293,  377, 1441, 1407,\n",
      "         688,  137,  223, 1630])\n",
      "tensor([ 913, 2748, 2244, 1840,  169,  459, 1834,  174, 1008,  316,    4, 2796,\n",
      "         264, 1739, 1760, 1891])\n",
      "tensor([ 492,  583,  705, 1355, 1134, 1141, 1317,  601, 2231, 2449, 1179,  323,\n",
      "         655, 2356, 1213, 2159])\n",
      "tensor([2819, 1027, 1665,  475,  700, 2518,  329,  905, 1624,  823, 2043,   67,\n",
      "        2256, 1553, 2118,  710])\n",
      "tensor([1019, 1599, 2463, 1552, 1449, 1610, 1603, 2025,  969, 2262, 1813, 2094,\n",
      "        2074, 1648, 2816, 1979])\n",
      "tensor([1363,   27,  927,  618, 1664,  383, 1267, 2050, 1694, 2427, 1811,  354,\n",
      "        1034, 1057,  367, 2694])\n",
      "tensor([1237, 1554, 2334,  860, 2020,  317, 1115, 1002, 2651, 2149, 2787, 1560,\n",
      "        2472, 1860, 2430, 1995])\n",
      "tensor([1131, 1653, 1445,  473, 1555, 2361,  701, 1195, 1710, 1517, 1013, 1189,\n",
      "        1846, 2497,  937, 1258])\n",
      "tensor([1528, 1224, 1620, 1511, 1423, 1627, 2465,   44, 2429,  999,  597,   51,\n",
      "        2431, 2994,  714, 2884])\n",
      "tensor([1532,  719, 1056, 1190, 2186, 2434, 1604,  531,    3, 2222, 2548, 1909,\n",
      "        1399, 2914, 1632, 1380])\n",
      "tensor([2045,  277, 2273,  917, 1798, 1693, 1297, 1417, 1252, 1403, 2862, 2333,\n",
      "        2483, 2907, 2689, 2451])\n",
      "tensor([  96, 1623,  628,  595, 2988, 2607, 1907,  226, 2266, 2107, 2717,  706,\n",
      "        2070,  926,  642, 2475])\n",
      "tensor([1273,  455, 2404,  869, 2843,  729, 1691, 1042])\n"
     ]
    }
   ],
   "source": [
    "trainset = CailDataset(dataset=\"./cail/competition_stage_2_train.json\")\n",
    "train_loader = DataLoader(trainset,batch_size=16,shuffle=True)\n",
    "from tqdm import trange\n",
    "correct = 0 \n",
    "file = open(path,'r',encoding='utf-8')\n",
    "cases = file.readlines()\n",
    "cases = [json.loads(i) for i in cases]\n",
    "file.close()\n",
    "for  i,data in enumerate(train_loader):\n",
    "    # print(type(data))\n",
    "    # print(data.keys())\n",
    "    # print(data['Case_A'])\n",
    "    # label = torch.LongTensor(data['label'])\n",
    "    # fake = model(data)\n",
    "    # correct+=sum(fake,label\n",
    "# print(correct)\n"
   ]
  },
  {
   "cell_type": "code",
   "execution_count": null,
   "metadata": {},
   "outputs": [],
   "source": []
  }
 ],
 "metadata": {
  "kernelspec": {
   "display_name": "pytorch",
   "language": "python",
   "name": "python3"
  },
  "language_info": {
   "codemirror_mode": {
    "name": "ipython",
    "version": 3
   },
   "file_extension": ".py",
   "mimetype": "text/x-python",
   "name": "python",
   "nbconvert_exporter": "python",
   "pygments_lexer": "ipython3",
   "version": "3.10.4"
  },
  "orig_nbformat": 4,
  "vscode": {
   "interpreter": {
    "hash": "63aff658242b17a645c83dadf2961dc7d0eea54a0eef17e6cd4d269f5b28227b"
   }
  }
 },
 "nbformat": 4,
 "nbformat_minor": 2
}
