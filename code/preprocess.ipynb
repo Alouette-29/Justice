{
 "cells": [
  {
   "attachments": {},
   "cell_type": "markdown",
   "metadata": {},
   "source": [
    "$1000\\times 100 \\times n $"
   ]
  },
  {
   "attachments": {},
   "cell_type": "markdown",
   "metadata": {},
   "source": [
    "一个文件 1000条数据  也就是 1000 个 字典 <br>\n",
    "然后我们去做描述性统计 <br>\n",
    "在这之前，我们先构造好数据结构 "
   ]
  },
  {
   "cell_type": "code",
   "execution_count": 1,
   "metadata": {},
   "outputs": [
    {
     "ename": "FileNotFoundError",
     "evalue": "[WinError 3] 系统找不到指定的路径。: './casebase/'",
     "output_type": "error",
     "traceback": [
      "\u001b[1;31m---------------------------------------------------------------------------\u001b[0m",
      "\u001b[1;31mFileNotFoundError\u001b[0m                         Traceback (most recent call last)",
      "Cell \u001b[1;32mIn [1], line 6\u001b[0m\n\u001b[0;32m      4\u001b[0m \u001b[39mimport\u001b[39;00m \u001b[39mnumpy\u001b[39;00m \u001b[39mas\u001b[39;00m \u001b[39mnp\u001b[39;00m \n\u001b[0;32m      5\u001b[0m basepath \u001b[39m=\u001b[39m \u001b[39m\"\u001b[39m\u001b[39m./casebase/\u001b[39m\u001b[39m\"\u001b[39m\n\u001b[1;32m----> 6\u001b[0m batches \u001b[39m=\u001b[39m [basepath\u001b[39m+\u001b[39m\u001b[39mstr\u001b[39m(i)\u001b[39m+\u001b[39m\u001b[39m'\u001b[39m\u001b[39m/\u001b[39m\u001b[39m'\u001b[39m \u001b[39mfor\u001b[39;00m i \u001b[39min\u001b[39;00m \u001b[39mrange\u001b[39m(\u001b[39mlen\u001b[39m(os\u001b[39m.\u001b[39;49mlistdir(basepath)))]\n\u001b[0;32m      7\u001b[0m \u001b[39m# create this list because we need to control the order of the files\u001b[39;00m\n\u001b[0;32m      8\u001b[0m \u001b[39m# the order of sort str() and that of int is different\u001b[39;00m\n\u001b[0;32m      9\u001b[0m batches\n",
      "\u001b[1;31mFileNotFoundError\u001b[0m: [WinError 3] 系统找不到指定的路径。: './casebase/'"
     ]
    }
   ],
   "source": [
    "#load case data from casebase\n",
    "import os \n",
    "import json \n",
    "import numpy as np \n",
    "basepath = \"./casebase/\"\n",
    "batches = [basepath+str(i)+'/' for i in range(len(os.listdir(basepath)))]\n",
    "# create this list because we need to control the order of the files\n",
    "# the order of sort str() and that of int is different\n",
    "batches"
   ]
  },
  {
   "cell_type": "code",
   "execution_count": null,
   "metadata": {},
   "outputs": [],
   "source": [
    "casekey = {'trial_round', 'settle_type', 'case_name', 'court_name', 'court_district', 'appellor', 'judge_member_text', 'correction_text', 'publish_date', 'case_skb_text', 'pub_prosecution_org', 'judge_record_text', 'd', 'court_city', 'trial_date', 'court_id', 'case_type', 'etl', 'admin_manage_scope', 'content', 'judge_result_text', 'keywords', 'crawl_time', 'is_private', 'upload_date', 'browse_count', 'additional_text', 'doc_id', 'channel', 'court_region', 'head_text', 'doc_content', 'doc_type', 'trail_member', 'effect_level', 'tail_text', 'fulltext_type', 'judge_reson_text', 'law_firm', 'case_id', 'private_reason', 'court_province', 'status', 'admin_behavior_type', 'id', 'cause', 'abbr_adjudication_text', 'legal_base', 'basics_text', 'lawyer'}"
   ]
  },
  {
   "cell_type": "code",
   "execution_count": null,
   "metadata": {},
   "outputs": [],
   "source": [
    "for i in batches:\n",
    "    if os.path.exists(i):\n",
    "        crtdir = [i+j for j in os.listdir(i)] #crt is short for current\n",
    "    else:\n",
    "        Exception(\"no such directory\")"
   ]
  },
  {
   "cell_type": "code",
   "execution_count": null,
   "metadata": {},
   "outputs": [],
   "source": [
    "def openfile(batchID,fileId):\n",
    "    basepath = \"./casebase/\"\n",
    "    filepath = os.path.join(basepath,str(batchID),str(fileId)+'.txt')\n",
    "    try:\n",
    "        file = open(file=filepath,mode='r',encoding='utf-8')\n",
    "        content = file.readlines()\n",
    "        file.close()\n",
    "        return content\n",
    "    except:\n",
    "        print(\"here\")\n",
    "        raise Exception(\"No such file , please check your index (%d,%d)\"% (batchID,fileId))\n",
    "class LawcaseLoader():\n",
    "    def __init__(self,basepath) -> None:\n",
    "        self.basepath =basepath\n",
    "        self.LoadLoc = [0,0]\n",
    "        self.batches =[basepath+str(i)+'/' for i in range(len(os.listdir(basepath)))]\n",
    "    def load_dict(self,batchID,fileID,caseID):\n",
    "        file = openfile(batchID,fileID)\n",
    "        dic  = json.loads(file[caseID])\n",
    "        return dic    \n",
    "    def load_file(self,batchID,fileID):\n",
    "        path = os.path.join(self.basepath,str(batchID),str(fileID)+\".txt\")\n",
    "        with open(path,encoding='utf-8') as f:\n",
    "            file_in_dicts  = f.readlines()\n",
    "        for i in range(len(file_in_dicts)):\n",
    "            file_in_dicts[i] = self.load_dict(batchID,fileID,i)\n",
    "        return file_in_dicts\n"
   ]
  },
  {
   "cell_type": "code",
   "execution_count": null,
   "metadata": {},
   "outputs": [],
   "source": [
    "a = LawcaseLoader(basepath)"
   ]
  },
  {
   "cell_type": "code",
   "execution_count": null,
   "metadata": {},
   "outputs": [],
   "source": [
    "file = a.load_file(0,0)"
   ]
  },
  {
   "cell_type": "code",
   "execution_count": null,
   "metadata": {},
   "outputs": [
    {
     "data": {
      "text/plain": [
       "50"
      ]
     },
     "execution_count": 27,
     "metadata": {},
     "output_type": "execute_result"
    }
   ],
   "source": [
    "len(file[0])"
   ]
  },
  {
   "cell_type": "code",
   "execution_count": null,
   "metadata": {},
   "outputs": [],
   "source": [
    "batchnum = len(os.listdir(basepath))\n",
    "a = LawcaseLoader(basepath)\n",
    "for i in range(batchnum):\n",
    "    filenum = len(os.listdir(os.path.join(basepath,str(i))))\n",
    "    for j in range(filenum):\n",
    "        file = a.load_file(i,j)\n"
   ]
  },
  {
   "cell_type": "code",
   "execution_count": null,
   "metadata": {},
   "outputs": [],
   "source": []
  }
 ],
 "metadata": {
  "kernelspec": {
   "display_name": "base",
   "language": "python",
   "name": "python3"
  },
  "language_info": {
   "codemirror_mode": {
    "name": "ipython",
    "version": 3
   },
   "file_extension": ".py",
   "mimetype": "text/x-python",
   "name": "python",
   "nbconvert_exporter": "python",
   "pygments_lexer": "ipython3",
   "version": "3.9.7 (default, Sep 16 2021, 16:59:28) [MSC v.1916 64 bit (AMD64)]"
  },
  "orig_nbformat": 4,
  "vscode": {
   "interpreter": {
    "hash": "88279d2366fe020547cde40dd65aa0e3aa662a6ec1f3ca12d88834876c85e1a6"
   }
  }
 },
 "nbformat": 4,
 "nbformat_minor": 2
}
