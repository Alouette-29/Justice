{
 "cells": [
  {
   "attachments": {},
   "cell_type": "markdown",
   "metadata": {},
   "source": [
    "$1000\\times 100 \\times n $"
   ]
  },
  {
   "cell_type": "code",
   "execution_count": null,
   "metadata": {},
   "outputs": [],
   "source": [
    "#load case data from casebase\n",
    "import os \n",
    "import json \n",
    "import numpy as np \n",
    "basepath = \"./casebase/\"\n",
    "batches = [basepath+str(i)+'/' for i in range(len(os.listdir(basepath)))]\n",
    "# create this list because we need to control the order of the files\n",
    "# the order of sort str() and that of int is different\n",
    "batches"
   ]
  },
  {
   "cell_type": "code",
   "execution_count": null,
   "metadata": {},
   "outputs": [],
   "source": [
    "for i in batches:\n",
    "    if os.path.exists(i):\n",
    "        crtdir = [i+j for j in os.listdir(i)] #crt is short for current\n",
    "    else:\n",
    "        Exception(\"no such directory\")"
   ]
  },
  {
   "cell_type": "code",
   "execution_count": null,
   "metadata": {},
   "outputs": [],
   "source": [
    "def openfile(batchID,fileId):\n",
    "    basepath = \"./casebase/\"\n",
    "    filepath = os.path.join(basepath,str(batchID),str(fileId)+'.txt')\n",
    "    try:\n",
    "        file = open(file=filepath,mode='r',encoding='utf-8')\n",
    "        content = file.readlines()\n",
    "        return content\n",
    "    except:\n",
    "        print(\"here\")\n",
    "        raise Exception(\"No such file , please check your index (%d,%d)\"% (batchID,fileId))\n",
    "\n",
    "def load_dict(batchID,fileID,caseID):\n",
    "    file = openfile(batchID,fileID)\n",
    "    dic  = json.loads(file[caseID])\n",
    "    return dic\n",
    "\n",
    "class LawcaseLoader():\n",
    "    def __init__(self,basepath) -> None:\n",
    "        self.basepath =basepath\n",
    "        self.LoadLoc = [0,0]\n",
    "        self.batches =[basepath+str(i)+'/' for i in range(len(os.listdir(basepath)))]\n",
    "    def GeneratePath(self):\n",
    "        path = os.join(self.basepath,str(self.LoadLoc[0]),str(self.LoadLoc[1])+\".txt\")\n",
    "        \n",
    "\n",
    "    def Loader()\n"
   ]
  },
  {
   "cell_type": "code",
   "execution_count": null,
   "metadata": {},
   "outputs": [],
   "source": []
  },
  {
   "cell_type": "code",
   "execution_count": null,
   "metadata": {},
   "outputs": [],
   "source": [
    "\n",
    "\n",
    "\n"
   ]
  },
  {
   "cell_type": "code",
   "execution_count": null,
   "metadata": {},
   "outputs": [],
   "source": []
  }
 ],
 "metadata": {
  "kernelspec": {
   "display_name": "base",
   "language": "python",
   "name": "python3"
  },
  "language_info": {
   "codemirror_mode": {
    "name": "ipython",
    "version": 3
   },
   "file_extension": ".py",
   "mimetype": "text/x-python",
   "name": "python",
   "nbconvert_exporter": "python",
   "pygments_lexer": "ipython3",
   "version": "3.9.12"
  },
  "orig_nbformat": 4,
  "vscode": {
   "interpreter": {
    "hash": "5f1de7d2f8b2ea13c275b55a1a168baa6b4c6d64260a02c6ee9ee64f3ff538fa"
   }
  }
 },
 "nbformat": 4,
 "nbformat_minor": 2
}
