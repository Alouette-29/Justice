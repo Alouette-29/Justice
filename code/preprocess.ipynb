{
 "cells": [
  {
   "attachments": {},
   "cell_type": "markdown",
   "metadata": {},
   "source": [
    "$1000\\times 100 \\times n $"
   ]
  },
  {
   "attachments": {},
   "cell_type": "markdown",
   "metadata": {},
   "source": [
    "一个文件 1000条数据  也就是 1000 个 字典 <br>\n",
    "然后我们去做描述性统计 <br>\n",
    "在这之前，我们先构造好数据结构 "
   ]
  },
  {
   "cell_type": "code",
   "execution_count": 1,
   "metadata": {},
   "outputs": [
    {
     "data": {
      "text/plain": [
       "['./casebase/0/',\n",
       " './casebase/1/',\n",
       " './casebase/2/',\n",
       " './casebase/3/',\n",
       " './casebase/4/',\n",
       " './casebase/5/',\n",
       " './casebase/6/',\n",
       " './casebase/7/',\n",
       " './casebase/8/',\n",
       " './casebase/9/',\n",
       " './casebase/10/',\n",
       " './casebase/11/']"
      ]
     },
     "execution_count": 1,
     "metadata": {},
     "output_type": "execute_result"
    }
   ],
   "source": [
    "#load case data from casebase\n",
    "import os \n",
    "import json \n",
    "import numpy as np \n",
    "basepath = \"./casebase/\"\n",
    "batches = [basepath+str(i)+'/' for i in range(len(os.listdir(basepath)))]\n",
    "# create this list because we need to control the order of the files\n",
    "# the order of sort str() and that of int is different\n",
    "batches"
   ]
  },
  {
   "cell_type": "code",
   "execution_count": 32,
   "metadata": {},
   "outputs": [],
   "source": [
    "casekey = {'trial_round', 'settle_type', 'case_name', 'court_name', 'court_district', 'appellor', 'judge_member_text', 'correction_text', 'publish_date', 'case_skb_text', 'pub_prosecution_org', 'judge_record_text', 'd', 'court_city', 'trial_date', 'court_id', 'case_type', 'etl', 'admin_manage_scope', 'content', 'judge_result_text', 'keywords', 'crawl_time', 'is_private', 'upload_date', 'browse_count', 'additional_text', 'doc_id', 'channel', 'court_region', 'head_text', 'doc_content', 'doc_type', 'trail_member', 'effect_level', 'tail_text', 'fulltext_type', 'judge_reson_text', 'law_firm', 'case_id', 'private_reason', 'court_province', 'status', 'admin_behavior_type', 'id', 'cause', 'abbr_adjudication_text', 'legal_base', 'basics_text', 'lawyer'}"
   ]
  },
  {
   "cell_type": "code",
   "execution_count": 2,
   "metadata": {},
   "outputs": [],
   "source": [
    "for i in batches:\n",
    "    if os.path.exists(i):\n",
    "        crtdir = [i+j for j in os.listdir(i)] #crt is short for current\n",
    "    else:\n",
    "        Exception(\"no such directory\")"
   ]
  },
  {
   "cell_type": "code",
   "execution_count": 39,
   "metadata": {},
   "outputs": [],
   "source": [
    "def openfile(batchID,fileId):\n",
    "    basepath = \"./casebase/\"\n",
    "    filepath = os.path.join(basepath,str(batchID),str(fileId)+'.txt')\n",
    "    try:\n",
    "        file = open(file=filepath,mode='r',encoding='utf-8')\n",
    "        content = file.readlines()\n",
    "        file.close()\n",
    "        return content\n",
    "    except:\n",
    "        print(\"here\")\n",
    "        raise Exception(\"No such file , please check your index (%d,%d)\"% (batchID,fileId))\n",
    "class LawcaseLoader():\n",
    "    def __init__(self,basepath) -> None:\n",
    "        self.basepath =basepath\n",
    "        self.LoadLoc = [0,0]\n",
    "        self.batches =[basepath+str(i)+'/' for i in range(len(os.listdir(basepath)))]\n",
    "    def load_dict(self,batchID,fileID,caseID):\n",
    "        file = openfile(batchID,fileID)\n",
    "        dic  = json.loads(file[caseID])\n",
    "        return dic    \n",
    "    def load_file(self,batchID,fileID):\n",
    "        path = os.path.join(self.basepath,str(batchID),str(fileID)+\".txt\")\n",
    "        with open(path,encoding='utf-8') as f:\n",
    "            file_in_dicts  = f.readlines()\n",
    "        for i in range(len(file_in_dicts)):\n",
    "            file_in_dicts[i] = self.load_dict(batchID,fileID,i)\n",
    "        return file_in_dicts\n"
   ]
  },
  {
   "cell_type": "code",
   "execution_count": 40,
   "metadata": {},
   "outputs": [],
   "source": [
    "a = LawcaseLoader(basepath)"
   ]
  },
  {
   "cell_type": "code",
   "execution_count": 41,
   "metadata": {},
   "outputs": [],
   "source": [
    "file = a.load_file(0,0)"
   ]
  },
  {
   "cell_type": "code",
   "execution_count": 27,
   "metadata": {},
   "outputs": [
    {
     "data": {
      "text/plain": [
       "50"
      ]
     },
     "execution_count": 27,
     "metadata": {},
     "output_type": "execute_result"
    }
   ],
   "source": [
    "len(file[0])"
   ]
  },
  {
   "cell_type": "code",
   "execution_count": 42,
   "metadata": {},
   "outputs": [],
   "source": [
    "batchnum = len(os.listdir(basepath))\n",
    "a = LawcaseLoader(basepath)\n",
    "for i in range(batchnum):\n",
    "    filenum = len(os.listdir(os.path.join(basepath,str(i))))\n",
    "    for j in range(filenum):\n",
    "        file = a.load_file(i,j)\n"
   ]
  },
  {
   "cell_type": "code",
   "execution_count": null,
   "metadata": {},
   "outputs": [],
   "source": []
  }
 ],
 "metadata": {
  "kernelspec": {
   "display_name": "base",
   "language": "python",
   "name": "python3"
  },
  "language_info": {
   "codemirror_mode": {
    "name": "ipython",
    "version": 3
   },
   "file_extension": ".py",
   "mimetype": "text/x-python",
   "name": "python",
   "nbconvert_exporter": "python",
   "pygments_lexer": "ipython3",
   "version": "3.9.12"
  },
  "orig_nbformat": 4,
  "vscode": {
   "interpreter": {
    "hash": "5f1de7d2f8b2ea13c275b55a1a168baa6b4c6d64260a02c6ee9ee64f3ff538fa"
   }
  }
 },
 "nbformat": 4,
 "nbformat_minor": 2
}
